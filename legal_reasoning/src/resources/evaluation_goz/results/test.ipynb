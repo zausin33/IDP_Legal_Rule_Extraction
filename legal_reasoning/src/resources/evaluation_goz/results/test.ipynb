{
 "cells": [
  {
   "cell_type": "code",
   "execution_count": 1,
   "id": "initial_id",
   "metadata": {
    "collapsed": true,
    "ExecuteTime": {
     "end_time": "2024-01-11T12:42:01.810077Z",
     "start_time": "2024-01-11T12:42:00.984608200Z"
    }
   },
   "outputs": [],
   "source": [
    "import pandas as pd\n",
    "import numpy as np\n",
    "import re"
   ]
  },
  {
   "cell_type": "code",
   "execution_count": 144,
   "outputs": [
    {
     "name": "stdout",
     "output_type": "stream",
     "text": [
      "accuracy 0.35294117647058826\n"
     ]
    }
   ],
   "source": [
    "service_df = pd.read_csv(\"../../parsed_text_v2/parsed_rules/service_df.csv\")\n",
    "result_df = pd.read_csv(\"result_v2gpt-4-goz_commentary_v0.csv\")\n",
    "wrong_df = result_df[result_df[\"prediction\"] != result_df[\"is_correct\"]]\n",
    "\n",
    "rules = result_df[\"tests_rule\"].unique()\n",
    "wrong_rules = wrong_df[\"tests_rule\"].unique()\n",
    "accuracy = (len(rules) - len(wrong_rules)) / len(rules)\n",
    "print(\"accuracy\", accuracy)"
   ],
   "metadata": {
    "collapsed": false,
    "ExecuteTime": {
     "end_time": "2023-12-27T12:28:41.177689800Z",
     "start_time": "2023-12-27T12:28:41.105398300Z"
    }
   },
   "id": "7f25ac1f14993008"
  },
  {
   "cell_type": "code",
   "execution_count": 145,
   "outputs": [
    {
     "data": {
      "text/plain": "11"
     },
     "execution_count": 145,
     "metadata": {},
     "output_type": "execute_result"
    }
   ],
   "source": [
    "len(wrong_df[\"tests_rule\"].unique())"
   ],
   "metadata": {
    "collapsed": false,
    "ExecuteTime": {
     "end_time": "2023-12-27T12:28:42.226907900Z",
     "start_time": "2023-12-27T12:28:42.180398Z"
    }
   },
   "id": "e087889bfb4ed675"
  },
  {
   "cell_type": "code",
   "execution_count": 146,
   "outputs": [
    {
     "data": {
      "text/plain": "    Unnamed: 0                 tests_rule  \\\n4            4                         65   \n7            7                        100   \n8            8                        100   \n10          10                        110   \n16          16                       1020   \n19          19                       2030   \n21          21                       2195   \n24          24                       2195   \n26          26                       2220   \n29          29                       2240   \n33          33                       2400   \n34          34                       2410   \n35          35                       2410   \n38          38  L_Zuschläge_zu_bestimmten   \n39          39  L_Zuschläge_zu_bestimmten   \n\n                                              invoice  \\\n4   {'_Positionen': [{'_Faktor': 2.3, '_Behandlung...   \n7   {'_Positionen': [{'_Faktor': 2.3, '_Behandlung...   \n8   {'_Positionen': [{'_Faktor': 2.3, '_Behandlung...   \n10  {'_Positionen': [{'_Faktor': 2, '_Behandlungsd...   \n16  {'_Positionen': [{'_Faktor': 2.3, '_Behandlung...   \n19  {'_Positionen': [{'_Faktor': 2.3, '_Behandlung...   \n21  {'_Positionen': [{'_Faktor': 2.3, '_Behandlung...   \n24  {'_Positionen': [{'_Faktor': 2.3, '_Behandlung...   \n26  {'_Positionen': [{'_Faktor': 2.3, '_Behandlung...   \n29  {'_Positionen': [{'_Faktor': 2.3, '_Behandlung...   \n33  {'_Positionen': [{'_Faktor': 2.3, '_Behandlung...   \n34  {'_Positionen': [{'_Faktor': 2.3, '_Behandlung...   \n35  {'_Positionen': [{'_Faktor': 2.3, '_Behandlung...   \n38  {'_Positionen': [{'_Behandlungsdatum': '2012-0...   \n39  {'_Positionen': [{'_Behandlungsdatum': '2012-0...   \n\n                                               result  \\\n4   'If service 0065 is billed for a specific area...   \n7                                               False   \n8                                               False   \n10                                              False   \n16                                              False   \n19                                              Error   \n21                                              Error   \n24                                              Error   \n26                                              Error   \n29                                              Error   \n33                                              False   \n34                                              Error   \n35                                              Error   \n38                                              Error   \n39                                              Error   \n\n                                   interpreter_result  \\\n4   'If service 0065 is billed for a specific area...   \n7   ERROR: -g example_invoice(X), is_invoice_inval...   \n8   ERROR: -g example_invoice(X), is_invoice_inval...   \n10  ERROR: -g example_invoice(X), is_invoice_inval...   \n16  ERROR: -g example_invoice(X), is_invoice_inval...   \n19  ERROR: -g example_invoice(X), is_invoice_inval...   \n21  ERROR: -g example_invoice(X), is_invoice_inval...   \n24  ERROR: -g example_invoice(X), is_invoice_inval...   \n26  ERROR: -g example_invoice(X), is_invoice_inval...   \n29  ERROR: -g example_invoice(X), is_invoice_inval...   \n33  ERROR: -g example_invoice(X), is_invoice_inval...   \n34  ERROR: -g example_invoice(X), is_invoice_inval...   \n35  ERROR: -g example_invoice(X), is_invoice_inval...   \n38  ERROR: -g example_invoice(X), is_invoice_inval...   \n39  ERROR: -g example_invoice(X), is_invoice_inval...   \n\n                                                 code  is_correct  \\\n4   \\nis_invoice_invalid(Invoice) :-\\n    Invoice ...        True   \n7   \\nis_invoice_invalid(Invoice) :-\\n    Invoice ...       False   \n8   \\nis_invoice_invalid(Invoice) :-\\n    Invoice ...       False   \n10  \\nis_invoice_invalid(Invoice) :-\\n    Invoice ...       False   \n16  \\nis_invoice_invalid(Invoice) :-\\n    Invoice ...       False   \n19  \\nexample_invoice(invoice([\\n\\t\\tservice(2030,...        True   \n21  \\nexample_invoice(invoice([\\n\\t\\tservice(2195,...        True   \n24  \\nexample_invoice(invoice([\\n\\t\\tservice(2190,...        True   \n26  \\nexample_invoice(invoice([\\n\\t\\tservice(2220,...        True   \n29  \\n\\n\\n\\nexample_invoice(invoice([\\n\\t\\tservice...        True   \n33  \\nis_invoice_invalid(Invoice) :-\\n    Invoice ...       False   \n34  \\n\\n\\n\\n\\n\\nexample_invoice(invoice([\\n\\t\\tser...        True   \n35  \\n\\n\\n\\n\\n\\nexample_invoice(invoice([\\n\\t\\tser...        True   \n38  \\nexample_invoice(invoice([\\n\\t\\tservice(0500,...        True   \n39  \\nexample_invoice(invoice([\\n\\t\\tservice(0530,...        True   \n\n                                          explanation  prediction  \n4   If the service under number 0065 is included i...       False  \n7   If the service is billed more than once per to...        True  \n8   If the service is billed more than once per to...        True  \n10  The surcharge according to ServiceNumber 0110 ...        True  \n16  In connection with the services\\naccording to ...        True  \n19  Die Leistung nach der Nummer 2030 ist je Sitzu...       False  \n21  Die Leistungen nach den Nummern 2180, 2190 ode...       False  \n24  Die Leistungen nach den Nummern 2180, 2190 und...       False  \n26                                                NaN       False  \n29  Die Leistung nach den Nummern 2230 oder 2240 s...       False  \n33  Die Leistung nach der Nummer 2400 ist je Wurze...        True  \n34  Die Leistung nach der Nummer 2410 ist für dens...       False  \n35  Die Leistung nach der Nummer 2410 ist für dens...       False  \n38  Die Zuschläge nach den Nummern 0500 bis 0530 s...       False  \n39  Die Zuschläge nach den Nummern 0500 bis 0530 s...       False  ",
      "text/html": "<div>\n<style scoped>\n    .dataframe tbody tr th:only-of-type {\n        vertical-align: middle;\n    }\n\n    .dataframe tbody tr th {\n        vertical-align: top;\n    }\n\n    .dataframe thead th {\n        text-align: right;\n    }\n</style>\n<table border=\"1\" class=\"dataframe\">\n  <thead>\n    <tr style=\"text-align: right;\">\n      <th></th>\n      <th>Unnamed: 0</th>\n      <th>tests_rule</th>\n      <th>invoice</th>\n      <th>result</th>\n      <th>interpreter_result</th>\n      <th>code</th>\n      <th>is_correct</th>\n      <th>explanation</th>\n      <th>prediction</th>\n    </tr>\n  </thead>\n  <tbody>\n    <tr>\n      <th>4</th>\n      <td>4</td>\n      <td>65</td>\n      <td>{'_Positionen': [{'_Faktor': 2.3, '_Behandlung...</td>\n      <td>'If service 0065 is billed for a specific area...</td>\n      <td>'If service 0065 is billed for a specific area...</td>\n      <td>\\nis_invoice_invalid(Invoice) :-\\n    Invoice ...</td>\n      <td>True</td>\n      <td>If the service under number 0065 is included i...</td>\n      <td>False</td>\n    </tr>\n    <tr>\n      <th>7</th>\n      <td>7</td>\n      <td>100</td>\n      <td>{'_Positionen': [{'_Faktor': 2.3, '_Behandlung...</td>\n      <td>False</td>\n      <td>ERROR: -g example_invoice(X), is_invoice_inval...</td>\n      <td>\\nis_invoice_invalid(Invoice) :-\\n    Invoice ...</td>\n      <td>False</td>\n      <td>If the service is billed more than once per to...</td>\n      <td>True</td>\n    </tr>\n    <tr>\n      <th>8</th>\n      <td>8</td>\n      <td>100</td>\n      <td>{'_Positionen': [{'_Faktor': 2.3, '_Behandlung...</td>\n      <td>False</td>\n      <td>ERROR: -g example_invoice(X), is_invoice_inval...</td>\n      <td>\\nis_invoice_invalid(Invoice) :-\\n    Invoice ...</td>\n      <td>False</td>\n      <td>If the service is billed more than once per to...</td>\n      <td>True</td>\n    </tr>\n    <tr>\n      <th>10</th>\n      <td>10</td>\n      <td>110</td>\n      <td>{'_Positionen': [{'_Faktor': 2, '_Behandlungsd...</td>\n      <td>False</td>\n      <td>ERROR: -g example_invoice(X), is_invoice_inval...</td>\n      <td>\\nis_invoice_invalid(Invoice) :-\\n    Invoice ...</td>\n      <td>False</td>\n      <td>The surcharge according to ServiceNumber 0110 ...</td>\n      <td>True</td>\n    </tr>\n    <tr>\n      <th>16</th>\n      <td>16</td>\n      <td>1020</td>\n      <td>{'_Positionen': [{'_Faktor': 2.3, '_Behandlung...</td>\n      <td>False</td>\n      <td>ERROR: -g example_invoice(X), is_invoice_inval...</td>\n      <td>\\nis_invoice_invalid(Invoice) :-\\n    Invoice ...</td>\n      <td>False</td>\n      <td>In connection with the services\\naccording to ...</td>\n      <td>True</td>\n    </tr>\n    <tr>\n      <th>19</th>\n      <td>19</td>\n      <td>2030</td>\n      <td>{'_Positionen': [{'_Faktor': 2.3, '_Behandlung...</td>\n      <td>Error</td>\n      <td>ERROR: -g example_invoice(X), is_invoice_inval...</td>\n      <td>\\nexample_invoice(invoice([\\n\\t\\tservice(2030,...</td>\n      <td>True</td>\n      <td>Die Leistung nach der Nummer 2030 ist je Sitzu...</td>\n      <td>False</td>\n    </tr>\n    <tr>\n      <th>21</th>\n      <td>21</td>\n      <td>2195</td>\n      <td>{'_Positionen': [{'_Faktor': 2.3, '_Behandlung...</td>\n      <td>Error</td>\n      <td>ERROR: -g example_invoice(X), is_invoice_inval...</td>\n      <td>\\nexample_invoice(invoice([\\n\\t\\tservice(2195,...</td>\n      <td>True</td>\n      <td>Die Leistungen nach den Nummern 2180, 2190 ode...</td>\n      <td>False</td>\n    </tr>\n    <tr>\n      <th>24</th>\n      <td>24</td>\n      <td>2195</td>\n      <td>{'_Positionen': [{'_Faktor': 2.3, '_Behandlung...</td>\n      <td>Error</td>\n      <td>ERROR: -g example_invoice(X), is_invoice_inval...</td>\n      <td>\\nexample_invoice(invoice([\\n\\t\\tservice(2190,...</td>\n      <td>True</td>\n      <td>Die Leistungen nach den Nummern 2180, 2190 und...</td>\n      <td>False</td>\n    </tr>\n    <tr>\n      <th>26</th>\n      <td>26</td>\n      <td>2220</td>\n      <td>{'_Positionen': [{'_Faktor': 2.3, '_Behandlung...</td>\n      <td>Error</td>\n      <td>ERROR: -g example_invoice(X), is_invoice_inval...</td>\n      <td>\\nexample_invoice(invoice([\\n\\t\\tservice(2220,...</td>\n      <td>True</td>\n      <td>NaN</td>\n      <td>False</td>\n    </tr>\n    <tr>\n      <th>29</th>\n      <td>29</td>\n      <td>2240</td>\n      <td>{'_Positionen': [{'_Faktor': 2.3, '_Behandlung...</td>\n      <td>Error</td>\n      <td>ERROR: -g example_invoice(X), is_invoice_inval...</td>\n      <td>\\n\\n\\n\\nexample_invoice(invoice([\\n\\t\\tservice...</td>\n      <td>True</td>\n      <td>Die Leistung nach den Nummern 2230 oder 2240 s...</td>\n      <td>False</td>\n    </tr>\n    <tr>\n      <th>33</th>\n      <td>33</td>\n      <td>2400</td>\n      <td>{'_Positionen': [{'_Faktor': 2.3, '_Behandlung...</td>\n      <td>False</td>\n      <td>ERROR: -g example_invoice(X), is_invoice_inval...</td>\n      <td>\\nis_invoice_invalid(Invoice) :-\\n    Invoice ...</td>\n      <td>False</td>\n      <td>Die Leistung nach der Nummer 2400 ist je Wurze...</td>\n      <td>True</td>\n    </tr>\n    <tr>\n      <th>34</th>\n      <td>34</td>\n      <td>2410</td>\n      <td>{'_Positionen': [{'_Faktor': 2.3, '_Behandlung...</td>\n      <td>Error</td>\n      <td>ERROR: -g example_invoice(X), is_invoice_inval...</td>\n      <td>\\n\\n\\n\\n\\n\\nexample_invoice(invoice([\\n\\t\\tser...</td>\n      <td>True</td>\n      <td>Die Leistung nach der Nummer 2410 ist für dens...</td>\n      <td>False</td>\n    </tr>\n    <tr>\n      <th>35</th>\n      <td>35</td>\n      <td>2410</td>\n      <td>{'_Positionen': [{'_Faktor': 2.3, '_Behandlung...</td>\n      <td>Error</td>\n      <td>ERROR: -g example_invoice(X), is_invoice_inval...</td>\n      <td>\\n\\n\\n\\n\\n\\nexample_invoice(invoice([\\n\\t\\tser...</td>\n      <td>True</td>\n      <td>Die Leistung nach der Nummer 2410 ist für dens...</td>\n      <td>False</td>\n    </tr>\n    <tr>\n      <th>38</th>\n      <td>38</td>\n      <td>L_Zuschläge_zu_bestimmten</td>\n      <td>{'_Positionen': [{'_Behandlungsdatum': '2012-0...</td>\n      <td>Error</td>\n      <td>ERROR: -g example_invoice(X), is_invoice_inval...</td>\n      <td>\\nexample_invoice(invoice([\\n\\t\\tservice(0500,...</td>\n      <td>True</td>\n      <td>Die Zuschläge nach den Nummern 0500 bis 0530 s...</td>\n      <td>False</td>\n    </tr>\n    <tr>\n      <th>39</th>\n      <td>39</td>\n      <td>L_Zuschläge_zu_bestimmten</td>\n      <td>{'_Positionen': [{'_Behandlungsdatum': '2012-0...</td>\n      <td>Error</td>\n      <td>ERROR: -g example_invoice(X), is_invoice_inval...</td>\n      <td>\\nexample_invoice(invoice([\\n\\t\\tservice(0530,...</td>\n      <td>True</td>\n      <td>Die Zuschläge nach den Nummern 0500 bis 0530 s...</td>\n      <td>False</td>\n    </tr>\n  </tbody>\n</table>\n</div>"
     },
     "execution_count": 146,
     "metadata": {},
     "output_type": "execute_result"
    }
   ],
   "source": [
    "wrong_df"
   ],
   "metadata": {
    "collapsed": false,
    "ExecuteTime": {
     "end_time": "2023-12-27T12:28:45.162366300Z",
     "start_time": "2023-12-27T12:28:45.135366500Z"
    }
   },
   "id": "6936830c013f94b9"
  },
  {
   "cell_type": "code",
   "execution_count": 147,
   "outputs": [
    {
     "name": "stdout",
     "output_type": "stream",
     "text": [
      "gt: False prediction: True\n",
      "\n",
      "is_invoice_invalid(Invoice) :-\n",
      "    Invoice = invoice(Services, _, _, _),\n",
      "    findall(T, member(service(0090, _, _, _, _, _, Justification, [T]), Services), Teeth),\n",
      "    sort(Teeth, SortedTeeth),\n",
      "    length(Teeth, L1),\n",
      "    length(SortedTeeth, L2),\n",
      "    L1 > L2,\n",
      "    Justification == '',\n",
      "    print('If service 0090 is billed more than once per tooth, there must be a justification.'),\n",
      "    true.\n",
      "\n",
      "\n",
      "\n",
      "example_invoice(invoice([\n",
      "\t\tservice(0090, date(2012, 2, 12), 2.3, 60.0, 18.1, 'Eingehende Untersuchung zur Feststellung von Zahn-, Mund- und Kiefererkrankungen', '', [tooth(3, 1)]),\n",
      "\t\tservice(0090, date(2012, 2, 12), 2.3, 60.0, 18.1, 'Eingehende Untersuchung zur Feststellung von Zahn-, Mund- und Kiefererkrankungen', '', [tooth(3, 1)])\n",
      "\t],\n",
      "\t[\n",
      "\t\t\n",
      "\t],\n",
      "\tinvoice_date(date(2012, 7, 3)),\n",
      "\tinvoice_amount(18.1)\n",
      ")).\n",
      "If the service is billed more than once per tooth under code 0090, this must be justified in the invoice.\n",
      "---\n",
      "ERROR: -g example_invoice(X), is_invoice_invalid(X).: false\n"
     ]
    }
   ],
   "source": [
    "index = 7\n",
    "print(\"gt:\", wrong_df.loc[index][\"is_correct\"], \"prediction:\", wrong_df.loc[index][\"prediction\"])\n",
    "print(wrong_df.loc[index][\"code\"])\n",
    "print(wrong_df.loc[index][\"explanation\"])\n",
    "print(\"---\")\n",
    "print(wrong_df.loc[index][\"interpreter_result\"])"
   ],
   "metadata": {
    "collapsed": false,
    "ExecuteTime": {
     "end_time": "2023-12-27T12:29:01.718926500Z",
     "start_time": "2023-12-27T12:29:01.651566Z"
    }
   },
   "id": "5c794a2c8c2a20b8"
  },
  {
   "cell_type": "code",
   "execution_count": 143,
   "outputs": [
    {
     "name": "stdout",
     "output_type": "stream",
     "text": [
      "Rule:\n",
      "['Der Zuschlag nach der Nummer 0110 ist je Behandlungstag nur einmal und nur mit dem einfachen Gebührensatz berechnungsfähig.'\n",
      " nan]\n",
      "Translation:\n",
      "\n",
      "% Helper predicate to count occurrences of service 0110 on a given date with a multiplier other than 1.0\n",
      "count_service_0110([], _, Count) :- Count = 0.\n",
      "count_service_0110([service(0110, Date, Multiplier, _, _, _, _, _) | Rest], Date, Count) :-\n",
      "    Multiplier =\\= 1.0, !,\n",
      "    count_service_0110(Rest, Date, Count).\n",
      "count_service_0110([service(0110, Date, _, _, _, _, _, _) | Rest], Date, Count) :-\n",
      "    count_service_0110(Rest, Date, TempCount),\n",
      "    Count is TempCount + 1.\n",
      "count_service_0110([service(_, _, _, _, _, _, _, _) | Rest], Date, Count) :-\n",
      "    count_service_0110(Rest, Date, Count).\n",
      "\n",
      "% Predicate to check if the invoice is invalid due to rule 1\n",
      "is_invoice_invalid(Invoice) :-\n",
      "    Invoice = invoice(Services, _, _, _),\n",
      "    member(service(0110, Date, _, _, _, _, _, _), Services),\n",
      "    count_service_0110(Services, Date, Count),\n",
      "    (Count > 1 ->\n",
      "        print('Invalid: Service 0110 billed more than once on the same day.'),\n",
      "        true\n",
      "    ; Count = 1 ->\n",
      "        member(service(0110, Date, Multiplier, _, _, _, _, _), Services),\n",
      "        Multiplier =\\= 1.0,\n",
      "        print('Invalid: Service 0110 billed with a multiplier other than 1.0.'),\n",
      "        true\n",
      "    ;   false\n",
      "    ).\n",
      "\n",
      "example_invoice(invoice([\n",
      "\t\tservice(0110, date(2012, 2, 12), 2, 400.0, 45.0, 'Eingehende Untersuchung zur Feststellung von Zahn-, Mund- und Kiefererkrankungen', '', [])\n",
      "\t],\n",
      "\t[\n",
      "\t\t\n",
      "\t],\n",
      "\tinvoice_date(date(2012, 7, 3)),\n",
      "\tinvoice_amount(45.0)\n",
      ")).\n",
      "\n",
      "The Translation was false for the given example invoice\n",
      "The example invoice was: wrong\n",
      "The code predicted:  correct\n",
      "The output of the code was\n",
      "ERROR: -g example_invoice(X), is_invoice_invalid(X).: false\n",
      "\n",
      "==================================================\n",
      "Rule:\n",
      "['Zuschlag für die Anwendung eines Lasers bei den Leistungen nach den Nummern 2410, 3070, 3080, 3210, 3240, 4080, 4090, 4100, 4130, 4133 und 9160.'\n",
      " 'Der Zuschlag nach der Nummer 0120 beträgt 100 v.H. des einfachen Gebührensatzes der betreffenden Leistung, jedoch nicht mehr als 68 Euro.'\n",
      " 'Der Zuschlag nach der Nummer 0120 ist je Behandlungstag nur einmal berechnungsfähig.'\n",
      " nan]\n",
      "Translation:\n",
      "\n",
      "is_invoice_invalid(Invoice) :-\n",
      "    Invoice = invoice(Services, _, _, _),\n",
      "    member(service(ServiceNumber, Date, _, _, _, _, _, _), Services),\n",
      "    laser_service(ServiceNumber),\n",
      "    \\+ member(service(120, Date, _, _, _, _, _, _), Services),\n",
      "    print('Laser surcharge for service is missing.'), \n",
      "    true.\n",
      "\n",
      "laser_service(2410).\n",
      "laser_service(3070).\n",
      "laser_service(3080).\n",
      "laser_service(3210).\n",
      "laser_service(3240).\n",
      "laser_service(4080).\n",
      "laser_service(4090).\n",
      "laser_service(4100).\n",
      "laser_service(4130).\n",
      "laser_service(4133).\n",
      "laser_service(9160).\n",
      "\n",
      "\n",
      "\n",
      "\n",
      "is_invoice_invalid(Invoice) :-\n",
      "    Invoice = invoice(Services, _, _, _),\n",
      "    findall(Date, member(service(120, Date, _, _, _, _, _, _), Services), Dates),\n",
      "    list_duplicates(Dates, Duplicates),\n",
      "    Duplicates \\= [],\n",
      "    print('Laser surcharge billed more than once on the same treatment day.'), \n",
      "    true.\n",
      "\n",
      "list_duplicates(List, Duplicates) :-\n",
      "    setof(X, (member(X, List), select(X, List, Rest), memberchk(X, Rest)), Duplicates).\n",
      "\n",
      "example_invoice(invoice([\n",
      "\t\tservice(2410, date(2012, 2, 12), 2.3, 392.0, 50.71, 'Eingehende Untersuchung zur Feststellung von Zahn-, Mund- und Kiefererkrankungen', '', []),\n",
      "\t\tservice(0120, date(2012, 2, 12), 1.0, nan, 70.0, 'Eingehende Untersuchung zur Feststellung von Zahn-, Mund- und Kiefererkrankungen', '', [])\n",
      "\t],\n",
      "\t[\n",
      "\t\t\n",
      "\t],\n",
      "\tinvoice_date(date(2012, 7, 3)),\n",
      "\tinvoice_amount(120.71)\n",
      ")).\n",
      "\n",
      "The Translation was false for the given example invoice\n",
      "The example invoice was: wrong\n",
      "The code predicted:  correct\n",
      "The output of the code was\n",
      "Warning: c:/users/jonas/ideaprojects/idp/legal rule extraction goz/goz/src/temp.pl:25:\n",
      "Warning:    Clauses of is_invoice_invalid/1 are not together in the source-file\n",
      "Warning:    Earlier definition at c:/users/jonas/ideaprojects/idp/legal rule extraction goz/goz/src/temp.pl:2\n",
      "Warning:    Current predicate: laser_service/1\n",
      "Warning:    Use :- discontiguous is_invoice_invalid/1. to suppress this message\n",
      "ERROR: -g example_invoice(X), is_invoice_invalid(X).: false\n",
      "\n",
      "==================================================\n",
      "Rule:\n",
      "['Die Leistung nach der Nummer 2030 ist je Sitzung für eine Kieferhälfte oder einen Frontzahnbereich höchstens einmal für besondere Maßnahmen beim Präparieren und höchstens einmal für besondere Maßnahmen beim Füllen von Kavitäten berechnungsfähig.'\n",
      " 'Diese Regel kann auf die Rechnungsstruktur angewendet werden, indem man prüft, ob die Serviceleistung mit der Nummer 2030 mehr als einmal pro Sitzung für dieselbe Kieferhälfte oder denselben Frontzahnbereich abgerechnet wurde. Hierbei ist zu beachten, dass die Leistung einmal für das Präparieren und einmal für das Füllen von Kavitäten berechnet werden darf.']\n",
      "Translation:\n",
      "\n",
      "is_invoice_invalid(Invoice) :-\n",
      "    Invoice = invoice(Services, _, _, _),\n",
      "    findall((Area, Date), member(service(2030, Date, _, _, _, _, _, [tooth(Area, _)|_]), Services), Occurrences),\n",
      "    find_duplicate(Occurrences, Duplicate),\n",
      "    Duplicate = (DupArea, DupDate),\n",
      "    format('Invalid: Service 2030 charged more than once for jaw half ~w on date ~w~n', [DupArea, DupDate]),\n",
      "    true.\n",
      "\n",
      "find_duplicate(List, Duplicate) :-\n",
      "    select(Item, List, Rest),\n",
      "    member(Item, Rest),\n",
      "    Duplicate = Item,\n",
      "    !.\n",
      "\n",
      "example_invoice(invoice([\n",
      "\t\tservice(2030, date(2012, 2, 12), 2.3, 65.0, 8.41, 'Präparieren', '', [tooth(1, 0)]),\n",
      "\t\tservice(2030, date(2012, 2, 12), 2.3, 65.0, 8.41, 'Füllen', '', [tooth(1, 0)]),\n",
      "\t\tservice(2030, date(2012, 2, 12), 2.3, 65.0, 8.41, 'Präparieren', '', [tooth(2, 0)])\n",
      "\t],\n",
      "\t[\n",
      "\t\t\n",
      "\t],\n",
      "\tinvoice_date(date(2012, 7, 3)),\n",
      "\tinvoice_amount(25.23)\n",
      ")).\n",
      "\n",
      "The Translation was false for the given example invoice\n",
      "The example invoice was: correct\n",
      "The code predicted:  wrong\n",
      "The output of the code was\n",
      "Invalid: Service 2030 charged more than once for jaw half 1 on date date(2012,2,12)\n",
      "\n",
      "==================================================\n",
      "Rule:\n",
      "['Die Leistung nach der Nummer 2400 ist je Wurzelkanal höchstens zweimal je Sitzung berechnungsfähig.'\n",
      " nan]\n",
      "Translation:\n",
      "\n",
      "is_invoice_invalid(Invoice) :-\n",
      "    Invoice = invoice(Services, _, _, _),\n",
      "    findall((Tooth, Date), member(service(2400, Date, _, _, _, _, _, [Tooth]), Services), ServiceList),\n",
      "    invalid_service_2400(ServiceList).\n",
      "\n",
      "invalid_service_2400(ServiceList) :-\n",
      "    member((Tooth, Date), ServiceList),\n",
      "    findall((Tooth, Date), member((Tooth, Date), ServiceList), FilteredList),\n",
      "    length(FilteredList, Count),\n",
      "    Count > 2,\n",
      "    print('Service 2400 charged more than twice for a root canal in a single session.'),\n",
      "    !.\n",
      "\n",
      "invalid_service_2400(_).\n",
      "\n",
      "example_invoice(invoice([\n",
      "\t\tservice(2400, date(2012, 2, 12), 2.3, 70.0, 9.05, 'Eingehende Untersuchung zur Feststellung von Zahn-, Mund- und Kiefererkrankungen', '', [tooth(1, 1)]),\n",
      "\t\tservice(2400, date(2012, 2, 12), 2.3, 70.0, 9.05, 'Eingehende Untersuchung zur Feststellung von Zahn-, Mund- und Kiefererkrankungen', '', [tooth(1, 1)]),\n",
      "\t\tservice(2400, date(2012, 2, 12), 2.3, 70.0, 9.05, 'Eingehende Untersuchung zur Feststellung von Zahn-, Mund- und Kiefererkrankungen', '', [tooth(1, 2)])\n",
      "\t],\n",
      "\t[\n",
      "\t\t\n",
      "\t],\n",
      "\tinvoice_date(date(2012, 7, 3)),\n",
      "\tinvoice_amount(27.15)\n",
      ")).\n",
      "\n",
      "The Translation was false for the given example invoice\n",
      "The example invoice was: correct\n",
      "The code predicted:  wrong\n",
      "The output of the code was\n",
      "nan\n",
      "==================================================\n",
      "Rule:\n",
      "['Die Leistung nach der Nummer 2400 ist je Wurzelkanal höchstens zweimal je Sitzung berechnungsfähig.'\n",
      " nan]\n",
      "Translation:\n",
      "\n",
      "is_invoice_invalid(Invoice) :-\n",
      "    Invoice = invoice(Services, _, _, _),\n",
      "    findall((Tooth, Date), member(service(2400, Date, _, _, _, _, _, [Tooth]), Services), ServiceList),\n",
      "    invalid_service_2400(ServiceList).\n",
      "\n",
      "invalid_service_2400(ServiceList) :-\n",
      "    member((Tooth, Date), ServiceList),\n",
      "    findall((Tooth, Date), member((Tooth, Date), ServiceList), FilteredList),\n",
      "    length(FilteredList, Count),\n",
      "    Count > 2,\n",
      "    print('Service 2400 charged more than twice for a root canal in a single session.'),\n",
      "    !.\n",
      "\n",
      "invalid_service_2400(_).\n",
      "\n",
      "example_invoice(invoice([\n",
      "\t\tservice(2400, date(2012, 2, 12), 2.3, 70.0, 9.05, 'Eingehende Untersuchung zur Feststellung von Zahn-, Mund- und Kiefererkrankungen', '', [tooth(1, 1)]),\n",
      "\t\tservice(2400, date(2012, 2, 12), 2.3, 70.0, 9.05, 'Eingehende Untersuchung zur Feststellung von Zahn-, Mund- und Kiefererkrankungen', '', [tooth(1, 1)]),\n",
      "\t\tservice(2400, date(2012, 3, 12), 2.3, 70.0, 9.05, 'Eingehende Untersuchung zur Feststellung von Zahn-, Mund- und Kiefererkrankungen', '', [tooth(1, 1)])\n",
      "\t],\n",
      "\t[\n",
      "\t\t\n",
      "\t],\n",
      "\tinvoice_date(date(2012, 7, 3)),\n",
      "\tinvoice_amount(27.15)\n",
      ")).\n",
      "\n",
      "The Translation was false for the given example invoice\n",
      "The example invoice was: correct\n",
      "The code predicted:  wrong\n",
      "The output of the code was\n",
      "nan\n",
      "==================================================\n",
      "Rule:\n",
      "['Die Leistung nach der Nummer 2410 ist für denselben Wurzelkanal nur dann erneut berechnungsfähig, wenn der Wurzelkanal nach der ersten Aufbereitung definitiv versorgt worden ist.'\n",
      " 'Wenn auf Grund anatomischer Besonderheiten eine Aufbereitung in einer Sitzung nicht erfolgen kann, ist die Leistung nach der Nummer 2410 für denselben Wurzelkanal erneut berechnungsfähig. Dies ist in der Rechnung zu begründen.'\n",
      " 'Je Aufbereitung eines Wurzelkanals ist die Leistung in diesem Fall höchstens zweimal berechnungsfähig.']\n",
      "Translation:\n",
      "\n",
      "is_invoice_invalid(Invoice) :-\n",
      "    Invoice = invoice(Services, _, _, _),\n",
      "    findall(tooth(Area, Position), member(service(2410, _, _, _, _, _, _, [tooth(Area, Position)]), Services), RootCanals),\n",
      "    find_duplicate(RootCanals, Duplicate),\n",
      "    \\+(definitive_treatment_between(Services, Duplicate)),\n",
      "    print('Service 2410 charged again without definitive treatment in between for the same root canal'), !.\n",
      "\n",
      "find_duplicate(List, Duplicate) :-\n",
      "    select(Item, List, Rest),\n",
      "    member(Item, Rest),\n",
      "    Duplicate = Item.\n",
      "\n",
      "definitive_treatment_between(Services, tooth(Area, Position)) :-\n",
      "    member(service(2410, Date1, _, _, _, _, _, [tooth(Area, Position)]), Services),\n",
      "    member(service(_, Date2, _, _, _, 'Definitive Treatment', _, [tooth(Area, Position)]), Services),\n",
      "    Date1 @< Date2.\n",
      "\n",
      "\n",
      "is_invoice_invalid(Invoice) :-\n",
      "    Invoice = invoice(Services, _, _, _),\n",
      "    findall(tooth(Area, Position), member(service(2410, _, _, _, _, _, Justification, [tooth(Area, Position)]), Services), RootCanals),\n",
      "    find_duplicate(RootCanals, Duplicate),\n",
      "    \\+(justification_provided(Services, Duplicate)),\n",
      "    print('Service 2410 charged again for the same root canal without justification'), !.\n",
      "\n",
      "justification_provided(Services, tooth(Area, Position)) :-\n",
      "    member(service(2410, _, _, _, _, _, Justification, [tooth(Area, Position)]), Services),\n",
      "    Justification \\= ''.\n",
      "\n",
      "\n",
      "is_invoice_invalid(Invoice) :-\n",
      "    Invoice = invoice(Services, _, _, _),\n",
      "    findall(tooth(Area, Position), member(service(2410, _, _, _, _, _, _, [tooth(Area, Position)]), Services), RootCanals),\n",
      "    find_excessive_charges(RootCanals, Excessive),\n",
      "    print('Service 2410 charged more than twice for the same root canal'), !.\n",
      "\n",
      "find_excessive_charges(RootCanals, Excessive) :-\n",
      "    sort(RootCanals, UniqueRootCanals),\n",
      "    member(Canal, UniqueRootCanals),\n",
      "    findall(Canal, member(Canal, RootCanals), Instances),\n",
      "    length(Instances, Count),\n",
      "    Count > 2,\n",
      "    Excessive = Canal.\n",
      "\n",
      "example_invoice(invoice([\n",
      "\t\tservice(2410, date(2012, 2, 12), 2.3, 392.0, 50.71, 'Eingehende Untersuchung zur Feststellung von Zahn-, Mund- und Kiefererkrankungen', 'Wurzelkanal nach der ersten Aufbereitung definitiv versorgt worden', [tooth(1, 1)]),\n",
      "\t\tservice(2410, date(2012, 2, 12), 2.3, 392.0, 50.71, 'Eingehende Untersuchung zur Feststellung von Zahn-, Mund- und Kiefererkrankungen', 'Wurzelkanal nach der ersten Aufbereitung definitiv versorgt worden', [tooth(1, 1)]),\n",
      "\t\tservice(2410, date(2012, 2, 12), 2.3, 392.0, 50.71, 'Eingehende Untersuchung zur Feststellung von Zahn-, Mund- und Kiefererkrankungen', 'Wurzelkanal nach der ersten Aufbereitung definitiv versorgt worden', [tooth(1, 2)])\n",
      "\t],\n",
      "\t[\n",
      "\t\t\n",
      "\t],\n",
      "\tinvoice_date(date(2012, 7, 3)),\n",
      "\tinvoice_amount(152.13)\n",
      ")).\n",
      "\n",
      "The Translation was false for the given example invoice\n",
      "The example invoice was: correct\n",
      "The code predicted:  wrong\n",
      "The output of the code was\n",
      "Warning: c:/users/jonas/ideaprojects/idp/legal rule extraction goz/goz/src/temp.pl:20:\n",
      "Warning:    Singleton variables: [Justification]\n",
      "Warning: c:/users/jonas/ideaprojects/idp/legal rule extraction goz/goz/src/temp.pl:20:\n",
      "Warning:    Clauses of is_invoice_invalid/1 are not together in the source-file\n",
      "Warning:    Earlier definition at c:/users/jonas/ideaprojects/idp/legal rule extraction goz/goz/src/temp.pl:2\n",
      "Warning:    Current predicate: definitive_treatment_between/2\n",
      "Warning:    Use :- discontiguous is_invoice_invalid/1. to suppress this message\n",
      "Warning: c:/users/jonas/ideaprojects/idp/legal rule extraction goz/goz/src/temp.pl:32:\n",
      "Warning:    Singleton variables: [Excessive]\n",
      "Warning: c:/users/jonas/ideaprojects/idp/legal rule extraction goz/goz/src/temp.pl:32:\n",
      "Warning:    Clauses of is_invoice_invalid/1 are not together in the source-file\n",
      "Warning:    Earlier definition at c:/users/jonas/ideaprojects/idp/legal rule extraction goz/goz/src/temp.pl:2\n",
      "Warning:    Current predicate: justification_provided/2\n",
      "Warning:    Use :- discontiguous is_invoice_invalid/1. to suppress this message\n",
      "'Service 2410 charged again without definitive treatment in between for the same root canal'\n",
      "==================================================\n"
     ]
    },
    {
     "ename": "ValueError",
     "evalue": "invalid literal for int() with base 10: 'L_Zuschläge_zu_bestimmten'",
     "output_type": "error",
     "traceback": [
      "\u001B[1;31m---------------------------------------------------------------------------\u001B[0m",
      "\u001B[1;31mValueError\u001B[0m                                Traceback (most recent call last)",
      "Cell \u001B[1;32mIn[143], line 3\u001B[0m\n\u001B[0;32m      1\u001B[0m \u001B[38;5;28;01mfor\u001B[39;00m idx, row \u001B[38;5;129;01min\u001B[39;00m wrong_df\u001B[38;5;241m.\u001B[39miterrows():\n\u001B[0;32m      2\u001B[0m     rule_nr \u001B[38;5;241m=\u001B[39m row[\u001B[38;5;124m\"\u001B[39m\u001B[38;5;124mtests_rule\u001B[39m\u001B[38;5;124m\"\u001B[39m]\n\u001B[1;32m----> 3\u001B[0m     service \u001B[38;5;241m=\u001B[39m service_df[service_df[\u001B[38;5;124m\"\u001B[39m\u001B[38;5;124mnumber\u001B[39m\u001B[38;5;124m\"\u001B[39m] \u001B[38;5;241m==\u001B[39m \u001B[38;5;28;43mint\u001B[39;49m\u001B[43m(\u001B[49m\u001B[43mrule_nr\u001B[49m\u001B[43m)\u001B[49m]\n\u001B[0;32m      4\u001B[0m     \u001B[38;5;28mprint\u001B[39m(\u001B[38;5;124m\"\u001B[39m\u001B[38;5;124mRule:\u001B[39m\u001B[38;5;124m\"\u001B[39m)\n\u001B[0;32m      5\u001B[0m     \u001B[38;5;28mprint\u001B[39m(service[\u001B[38;5;124m\"\u001B[39m\u001B[38;5;124mrule\u001B[39m\u001B[38;5;124m\"\u001B[39m]\u001B[38;5;241m.\u001B[39mvalues)\n",
      "\u001B[1;31mValueError\u001B[0m: invalid literal for int() with base 10: 'L_Zuschläge_zu_bestimmten'"
     ]
    }
   ],
   "source": [
    "for idx, row in wrong_df.iterrows():\n",
    "    rule_nr = row[\"tests_rule\"]\n",
    "    service = service_df[service_df[\"number\"] == int(rule_nr)]\n",
    "    print(\"Rule:\")\n",
    "    print(service[\"rule\"].values)\n",
    "    print(\"Translation:\")\n",
    "    print(row[\"code\"])\n",
    "    print(\"\")\n",
    "    print(\"The Translation was false for the given example invoice\")\n",
    "    print(f\"The example invoice was: {'correct' if row['is_correct'] else 'wrong'}\")\n",
    "    print(\"The code predicted: \", 'correct' if row['prediction'] else 'wrong')\n",
    "    print(\"The output of the code was\")\n",
    "    print(row[\"interpreter_result\"])\n",
    "    print(\"==================================================\")"
   ],
   "metadata": {
    "collapsed": false,
    "ExecuteTime": {
     "end_time": "2023-12-27T12:18:14.981356600Z",
     "start_time": "2023-12-27T12:18:14.939072200Z"
    }
   },
   "id": "400553232c56c0ea"
  },
  {
   "cell_type": "code",
   "outputs": [
    {
     "data": {
      "text/plain": "     number                                            content  \\\n0        10  Eingehende Untersuchung zur\\nFeststellung von ...   \n1        30  Aufstellung eines schriftlichen Heil-\\nund Kos...   \n2        40  Aufstellung eines schriftlichen Heil-\\nund Kos...   \n3        40  Aufstellung eines schriftlichen Heil-\\nund Kos...   \n4        50  Abformung oder Teilabformung\\neines Kiefers fü...   \n..      ...                                                ...   \n288     520  Zuschlag bei nichtstationärer Durch -\\nführung...   \n289     520  Zuschlag bei nichtstationärer Durch -\\nführung...   \n290     530  Zuschlag bei nichtstationärer Durch -\\nführung...   \n291     530  Zuschlag bei nichtstationärer Durch -\\nführung...   \n292     530  Zuschlag bei nichtstationärer Durch -\\nführung...   \n\n                                   section  Punktzahl  1.0-fach  2.3-fach  \\\n0    A_Allgemeine_zahnärztliche_Leistungen      100.0      5.62     12.94   \n1    A_Allgemeine_zahnärztliche_Leistungen      200.0     11.25     25.87   \n2    A_Allgemeine_zahnärztliche_Leistungen      250.0     14.06     32.34   \n3    A_Allgemeine_zahnärztliche_Leistungen      250.0     14.06     32.34   \n4    A_Allgemeine_zahnärztliche_Leistungen      120.0      6.75     15.52   \n..                                     ...        ...       ...       ...   \n288              L_Zuschläge_zu_bestimmten     1300.0     73.11       NaN   \n289              L_Zuschläge_zu_bestimmten     1300.0     73.11       NaN   \n290              L_Zuschläge_zu_bestimmten     2200.0    123.73       NaN   \n291              L_Zuschläge_zu_bestimmten     2200.0    123.73       NaN   \n292              L_Zuschläge_zu_bestimmten     2200.0    123.73       NaN   \n\n     3.5-fach                                          reference  \\\n0       19.68  The text does not mention any references to ot...   \n1       39.37  The text does not mention any references to ot...   \n2       49.21                     References: Nummern 0030, 0040   \n3       49.21                     References: Nummern 0030, 0040   \n4       23.62  The text does not mention any references to ot...   \n..        ...                                                ...   \n288       NaN  References: Nummer 0520, Nummer 0500, Nummer 0...   \n289       NaN  References: Nummer 0520, Nummer 0500, Nummer 0...   \n290       NaN     References: Nummer 0530, Nummern 0500 bis 0520   \n291       NaN     References: Nummer 0530, Nummern 0500 bis 0520   \n292       NaN     References: Nummer 0530, Nummern 0500 bis 0520   \n\n     extr_ref_calls  extr_ref_prompt_tokens  extr_ref_completion_tokens  \\\n0                 1                     111                          11   \n1                 1                      91                          11   \n2                 1                     161                          12   \n3                 1                     161                          12   \n4                 1                      96                          11   \n..              ...                     ...                         ...   \n288               1                     186                          25   \n289               1                     186                          25   \n290               1                     182                          18   \n291               1                     182                          18   \n292               1                     182                          18   \n\n     extr_ref_total_cost  parsed_references  \\\n0                0.00399                NaN   \n1                0.00339                NaN   \n2                0.00555                NaN   \n3                0.00555                NaN   \n4                0.00354                NaN   \n..                   ...                ...   \n288              0.00708                NaN   \n289              0.00708                NaN   \n290              0.00654                NaN   \n291              0.00654                NaN   \n292              0.00654                NaN   \n\n                                            commentary  \\\n0    GOZ Nr. 0010\\nEingehende Untersuchung zur Fest...   \n1    A Allgemeine zahnärztliche Leistungen\\nGOZ Nr....   \n2    GOZ Nr. 0040\\nAufstellung eines schriftlichen ...   \n3    GOZ Nr. 0040\\nAufstellung eines schriftlichen ...   \n4    A Allgemeine zahnärztliche Leistungen\\nGOZ Nr....   \n..                                                 ...   \n288  L Zuschläge zu bestimmten zahnärztlich-chirurg...   \n289  L Zuschläge zu bestimmten zahnärztlich-chirurg...   \n290  GOZ Nr. 0530\\nZuschlag bei nichtstationärer Du...   \n291  GOZ Nr. 0530\\nZuschlag bei nichtstationärer Du...   \n292  GOZ Nr. 0530\\nZuschlag bei nichtstationärer Du...   \n\n                                                  rule  extr_rules_calls  \\\n0                                                  NaN                 1   \n1                                                  NaN                 1   \n2    Die Leistungen nach den Nummern 0030 und 0040 ...                 1   \n3                                                  NaN                 1   \n4                                                  NaN                 1   \n..                                                 ...               ...   \n288  Der Zuschlag nach der Nummer 0520 ist neben de...                 1   \n289                                                NaN                 1   \n290  Der Zuschlag nach der Nummer 0530 ist je Behan...                 1   \n291  Der Zuschlag nach der Nummer 0530 ist neben de...                 1   \n292                                                NaN                 1   \n\n     extr_rules_prompt_tokens  extr_rules_completion_tokens  \\\n0                         658                             5   \n1                         638                             5   \n2                         708                            31   \n3                         708                            31   \n4                         643                             5   \n..                        ...                           ...   \n288                       733                            73   \n289                       733                            73   \n290                       729                            67   \n291                       729                            67   \n292                       729                            67   \n\n     extr_rules_total_cost  \n0                      0.0  \n1                      0.0  \n2                      0.0  \n3                      0.0  \n4                      0.0  \n..                     ...  \n288                    0.0  \n289                    0.0  \n290                    0.0  \n291                    0.0  \n292                    0.0  \n\n[293 rows x 19 columns]",
      "text/html": "<div>\n<style scoped>\n    .dataframe tbody tr th:only-of-type {\n        vertical-align: middle;\n    }\n\n    .dataframe tbody tr th {\n        vertical-align: top;\n    }\n\n    .dataframe thead th {\n        text-align: right;\n    }\n</style>\n<table border=\"1\" class=\"dataframe\">\n  <thead>\n    <tr style=\"text-align: right;\">\n      <th></th>\n      <th>number</th>\n      <th>content</th>\n      <th>section</th>\n      <th>Punktzahl</th>\n      <th>1.0-fach</th>\n      <th>2.3-fach</th>\n      <th>3.5-fach</th>\n      <th>reference</th>\n      <th>extr_ref_calls</th>\n      <th>extr_ref_prompt_tokens</th>\n      <th>extr_ref_completion_tokens</th>\n      <th>extr_ref_total_cost</th>\n      <th>parsed_references</th>\n      <th>commentary</th>\n      <th>rule</th>\n      <th>extr_rules_calls</th>\n      <th>extr_rules_prompt_tokens</th>\n      <th>extr_rules_completion_tokens</th>\n      <th>extr_rules_total_cost</th>\n    </tr>\n  </thead>\n  <tbody>\n    <tr>\n      <th>0</th>\n      <td>10</td>\n      <td>Eingehende Untersuchung zur\\nFeststellung von ...</td>\n      <td>A_Allgemeine_zahnärztliche_Leistungen</td>\n      <td>100.0</td>\n      <td>5.62</td>\n      <td>12.94</td>\n      <td>19.68</td>\n      <td>The text does not mention any references to ot...</td>\n      <td>1</td>\n      <td>111</td>\n      <td>11</td>\n      <td>0.00399</td>\n      <td>NaN</td>\n      <td>GOZ Nr. 0010\\nEingehende Untersuchung zur Fest...</td>\n      <td>NaN</td>\n      <td>1</td>\n      <td>658</td>\n      <td>5</td>\n      <td>0.0</td>\n    </tr>\n    <tr>\n      <th>1</th>\n      <td>30</td>\n      <td>Aufstellung eines schriftlichen Heil-\\nund Kos...</td>\n      <td>A_Allgemeine_zahnärztliche_Leistungen</td>\n      <td>200.0</td>\n      <td>11.25</td>\n      <td>25.87</td>\n      <td>39.37</td>\n      <td>The text does not mention any references to ot...</td>\n      <td>1</td>\n      <td>91</td>\n      <td>11</td>\n      <td>0.00339</td>\n      <td>NaN</td>\n      <td>A Allgemeine zahnärztliche Leistungen\\nGOZ Nr....</td>\n      <td>NaN</td>\n      <td>1</td>\n      <td>638</td>\n      <td>5</td>\n      <td>0.0</td>\n    </tr>\n    <tr>\n      <th>2</th>\n      <td>40</td>\n      <td>Aufstellung eines schriftlichen Heil-\\nund Kos...</td>\n      <td>A_Allgemeine_zahnärztliche_Leistungen</td>\n      <td>250.0</td>\n      <td>14.06</td>\n      <td>32.34</td>\n      <td>49.21</td>\n      <td>References: Nummern 0030, 0040</td>\n      <td>1</td>\n      <td>161</td>\n      <td>12</td>\n      <td>0.00555</td>\n      <td>NaN</td>\n      <td>GOZ Nr. 0040\\nAufstellung eines schriftlichen ...</td>\n      <td>Die Leistungen nach den Nummern 0030 und 0040 ...</td>\n      <td>1</td>\n      <td>708</td>\n      <td>31</td>\n      <td>0.0</td>\n    </tr>\n    <tr>\n      <th>3</th>\n      <td>40</td>\n      <td>Aufstellung eines schriftlichen Heil-\\nund Kos...</td>\n      <td>A_Allgemeine_zahnärztliche_Leistungen</td>\n      <td>250.0</td>\n      <td>14.06</td>\n      <td>32.34</td>\n      <td>49.21</td>\n      <td>References: Nummern 0030, 0040</td>\n      <td>1</td>\n      <td>161</td>\n      <td>12</td>\n      <td>0.00555</td>\n      <td>NaN</td>\n      <td>GOZ Nr. 0040\\nAufstellung eines schriftlichen ...</td>\n      <td>NaN</td>\n      <td>1</td>\n      <td>708</td>\n      <td>31</td>\n      <td>0.0</td>\n    </tr>\n    <tr>\n      <th>4</th>\n      <td>50</td>\n      <td>Abformung oder Teilabformung\\neines Kiefers fü...</td>\n      <td>A_Allgemeine_zahnärztliche_Leistungen</td>\n      <td>120.0</td>\n      <td>6.75</td>\n      <td>15.52</td>\n      <td>23.62</td>\n      <td>The text does not mention any references to ot...</td>\n      <td>1</td>\n      <td>96</td>\n      <td>11</td>\n      <td>0.00354</td>\n      <td>NaN</td>\n      <td>A Allgemeine zahnärztliche Leistungen\\nGOZ Nr....</td>\n      <td>NaN</td>\n      <td>1</td>\n      <td>643</td>\n      <td>5</td>\n      <td>0.0</td>\n    </tr>\n    <tr>\n      <th>...</th>\n      <td>...</td>\n      <td>...</td>\n      <td>...</td>\n      <td>...</td>\n      <td>...</td>\n      <td>...</td>\n      <td>...</td>\n      <td>...</td>\n      <td>...</td>\n      <td>...</td>\n      <td>...</td>\n      <td>...</td>\n      <td>...</td>\n      <td>...</td>\n      <td>...</td>\n      <td>...</td>\n      <td>...</td>\n      <td>...</td>\n      <td>...</td>\n    </tr>\n    <tr>\n      <th>288</th>\n      <td>520</td>\n      <td>Zuschlag bei nichtstationärer Durch -\\nführung...</td>\n      <td>L_Zuschläge_zu_bestimmten</td>\n      <td>1300.0</td>\n      <td>73.11</td>\n      <td>NaN</td>\n      <td>NaN</td>\n      <td>References: Nummer 0520, Nummer 0500, Nummer 0...</td>\n      <td>1</td>\n      <td>186</td>\n      <td>25</td>\n      <td>0.00708</td>\n      <td>NaN</td>\n      <td>L Zuschläge zu bestimmten zahnärztlich-chirurg...</td>\n      <td>Der Zuschlag nach der Nummer 0520 ist neben de...</td>\n      <td>1</td>\n      <td>733</td>\n      <td>73</td>\n      <td>0.0</td>\n    </tr>\n    <tr>\n      <th>289</th>\n      <td>520</td>\n      <td>Zuschlag bei nichtstationärer Durch -\\nführung...</td>\n      <td>L_Zuschläge_zu_bestimmten</td>\n      <td>1300.0</td>\n      <td>73.11</td>\n      <td>NaN</td>\n      <td>NaN</td>\n      <td>References: Nummer 0520, Nummer 0500, Nummer 0...</td>\n      <td>1</td>\n      <td>186</td>\n      <td>25</td>\n      <td>0.00708</td>\n      <td>NaN</td>\n      <td>L Zuschläge zu bestimmten zahnärztlich-chirurg...</td>\n      <td>NaN</td>\n      <td>1</td>\n      <td>733</td>\n      <td>73</td>\n      <td>0.0</td>\n    </tr>\n    <tr>\n      <th>290</th>\n      <td>530</td>\n      <td>Zuschlag bei nichtstationärer Durch -\\nführung...</td>\n      <td>L_Zuschläge_zu_bestimmten</td>\n      <td>2200.0</td>\n      <td>123.73</td>\n      <td>NaN</td>\n      <td>NaN</td>\n      <td>References: Nummer 0530, Nummern 0500 bis 0520</td>\n      <td>1</td>\n      <td>182</td>\n      <td>18</td>\n      <td>0.00654</td>\n      <td>NaN</td>\n      <td>GOZ Nr. 0530\\nZuschlag bei nichtstationärer Du...</td>\n      <td>Der Zuschlag nach der Nummer 0530 ist je Behan...</td>\n      <td>1</td>\n      <td>729</td>\n      <td>67</td>\n      <td>0.0</td>\n    </tr>\n    <tr>\n      <th>291</th>\n      <td>530</td>\n      <td>Zuschlag bei nichtstationärer Durch -\\nführung...</td>\n      <td>L_Zuschläge_zu_bestimmten</td>\n      <td>2200.0</td>\n      <td>123.73</td>\n      <td>NaN</td>\n      <td>NaN</td>\n      <td>References: Nummer 0530, Nummern 0500 bis 0520</td>\n      <td>1</td>\n      <td>182</td>\n      <td>18</td>\n      <td>0.00654</td>\n      <td>NaN</td>\n      <td>GOZ Nr. 0530\\nZuschlag bei nichtstationärer Du...</td>\n      <td>Der Zuschlag nach der Nummer 0530 ist neben de...</td>\n      <td>1</td>\n      <td>729</td>\n      <td>67</td>\n      <td>0.0</td>\n    </tr>\n    <tr>\n      <th>292</th>\n      <td>530</td>\n      <td>Zuschlag bei nichtstationärer Durch -\\nführung...</td>\n      <td>L_Zuschläge_zu_bestimmten</td>\n      <td>2200.0</td>\n      <td>123.73</td>\n      <td>NaN</td>\n      <td>NaN</td>\n      <td>References: Nummer 0530, Nummern 0500 bis 0520</td>\n      <td>1</td>\n      <td>182</td>\n      <td>18</td>\n      <td>0.00654</td>\n      <td>NaN</td>\n      <td>GOZ Nr. 0530\\nZuschlag bei nichtstationärer Du...</td>\n      <td>NaN</td>\n      <td>1</td>\n      <td>729</td>\n      <td>67</td>\n      <td>0.0</td>\n    </tr>\n  </tbody>\n</table>\n<p>293 rows × 19 columns</p>\n</div>"
     },
     "execution_count": 86,
     "metadata": {},
     "output_type": "execute_result"
    }
   ],
   "source": [
    "service_df"
   ],
   "metadata": {
    "collapsed": false,
    "ExecuteTime": {
     "end_time": "2023-12-27T11:30:05.947779600Z",
     "start_time": "2023-12-27T11:30:05.891133Z"
    }
   },
   "id": "5e10f969a8cf5e9f",
   "execution_count": 86
  },
  {
   "cell_type": "code",
   "execution_count": 119,
   "outputs": [
    {
     "name": "stdout",
     "output_type": "stream",
     "text": [
      "Die Leistungen nach den Nummern 2180, 2190 oder 2195 sind neben den Leistungen nach den Nummern 2150 bis 2170 nicht berechnungsfähig.\n"
     ]
    }
   ],
   "source": [
    "print(wrong_df.loc[21][\"explanation\"])"
   ],
   "metadata": {
    "collapsed": false,
    "ExecuteTime": {
     "end_time": "2023-11-07T23:59:04.973975700Z",
     "start_time": "2023-11-07T23:59:04.960512600Z"
    }
   },
   "id": "834865afed45899d"
  },
  {
   "cell_type": "code",
   "execution_count": null,
   "outputs": [],
   "source": [],
   "metadata": {
    "collapsed": false
   },
   "id": "5a72ebb2555e8fab"
  },
  {
   "cell_type": "code",
   "execution_count": 25,
   "outputs": [
    {
     "name": "stdout",
     "output_type": "stream",
     "text": [
      "accuracy 0.5882352941176471\n"
     ]
    },
    {
     "data": {
      "text/plain": "    Unnamed: 0                 tests_rule  \\\n5            5                         65   \n10          10                        110   \n19          19                       2030   \n26          26                       2220   \n31          31                       2400   \n32          32                       2400   \n35          35                       2410   \n38          38  L_Zuschläge_zu_bestimmten   \n39          39  L_Zuschläge_zu_bestimmten   \n\n                                              invoice   result  is_correct  \\\n5   {'_Positionen': [{'_Faktor': 2.3, '_Behandlung...      Yes       False   \n10  {'_Positionen': [{'_Faktor': 2, '_Behandlungsd...      Yes       False   \n19  {'_Positionen': [{'_Faktor': 2.3, '_Behandlung...       No        True   \n26  {'_Positionen': [{'_Faktor': 2.3, '_Behandlung...       No        True   \n31  {'_Positionen': [{'_Faktor': 2.3, '_Behandlung...       No        True   \n32  {'_Positionen': [{'_Faktor': 2.3, '_Behandlung...  Unclear        True   \n35  {'_Positionen': [{'_Faktor': 2.3, '_Behandlung...       No        True   \n38  {'_Positionen': [{'_Behandlungsdatum': '2012-0...       No        True   \n39  {'_Positionen': [{'_Behandlungsdatum': '2012-0...       No        True   \n\n                                          explanation  prediction  \\\n5   If the service under number 0065 is included i...        True   \n10  The surcharge according to ServiceNumber 0110 ...        True   \n19  Die Leistung nach der Nummer 2030 ist je Sitzu...       False   \n26  Neben den Leistungen nach den Nummern 2200 bis...       False   \n31  Die Leistung nach der Nummer 2400 ist je Wurze...       False   \n32  Die Leistung nach der Nummer 2400 ist je Wurze...       False   \n35  Die Leistung nach der Nummer 2410 ist für dens...       False   \n38  Die Zuschläge nach den Nummern 0500 bis 0530 s...       False   \n39  Die Zuschläge nach den Nummern 0500 bis 0530 s...       False   \n\n                                         llm_response  \n5   Reasoning: The rule provided is about a specif...  \n10  Reasoning: The rule states that the surcharge ...  \n19  Reasoning: The rule states that the service wi...  \n26  Reasoning: The rule is about dental services r...  \n31  Reasoning: The rule states that the service wi...  \n32  Reasoning: The rule states that the service wi...  \n35  Reasoning: The rule states that the service wi...  \n38  Reasoning: The invoice is not correct accordin...  \n39  Reasoning: The rule states that the surcharges...  ",
      "text/html": "<div>\n<style scoped>\n    .dataframe tbody tr th:only-of-type {\n        vertical-align: middle;\n    }\n\n    .dataframe tbody tr th {\n        vertical-align: top;\n    }\n\n    .dataframe thead th {\n        text-align: right;\n    }\n</style>\n<table border=\"1\" class=\"dataframe\">\n  <thead>\n    <tr style=\"text-align: right;\">\n      <th></th>\n      <th>Unnamed: 0</th>\n      <th>tests_rule</th>\n      <th>invoice</th>\n      <th>result</th>\n      <th>is_correct</th>\n      <th>explanation</th>\n      <th>prediction</th>\n      <th>llm_response</th>\n    </tr>\n  </thead>\n  <tbody>\n    <tr>\n      <th>5</th>\n      <td>5</td>\n      <td>65</td>\n      <td>{'_Positionen': [{'_Faktor': 2.3, '_Behandlung...</td>\n      <td>Yes</td>\n      <td>False</td>\n      <td>If the service under number 0065 is included i...</td>\n      <td>True</td>\n      <td>Reasoning: The rule provided is about a specif...</td>\n    </tr>\n    <tr>\n      <th>10</th>\n      <td>10</td>\n      <td>110</td>\n      <td>{'_Positionen': [{'_Faktor': 2, '_Behandlungsd...</td>\n      <td>Yes</td>\n      <td>False</td>\n      <td>The surcharge according to ServiceNumber 0110 ...</td>\n      <td>True</td>\n      <td>Reasoning: The rule states that the surcharge ...</td>\n    </tr>\n    <tr>\n      <th>19</th>\n      <td>19</td>\n      <td>2030</td>\n      <td>{'_Positionen': [{'_Faktor': 2.3, '_Behandlung...</td>\n      <td>No</td>\n      <td>True</td>\n      <td>Die Leistung nach der Nummer 2030 ist je Sitzu...</td>\n      <td>False</td>\n      <td>Reasoning: The rule states that the service wi...</td>\n    </tr>\n    <tr>\n      <th>26</th>\n      <td>26</td>\n      <td>2220</td>\n      <td>{'_Positionen': [{'_Faktor': 2.3, '_Behandlung...</td>\n      <td>No</td>\n      <td>True</td>\n      <td>Neben den Leistungen nach den Nummern 2200 bis...</td>\n      <td>False</td>\n      <td>Reasoning: The rule is about dental services r...</td>\n    </tr>\n    <tr>\n      <th>31</th>\n      <td>31</td>\n      <td>2400</td>\n      <td>{'_Positionen': [{'_Faktor': 2.3, '_Behandlung...</td>\n      <td>No</td>\n      <td>True</td>\n      <td>Die Leistung nach der Nummer 2400 ist je Wurze...</td>\n      <td>False</td>\n      <td>Reasoning: The rule states that the service wi...</td>\n    </tr>\n    <tr>\n      <th>32</th>\n      <td>32</td>\n      <td>2400</td>\n      <td>{'_Positionen': [{'_Faktor': 2.3, '_Behandlung...</td>\n      <td>Unclear</td>\n      <td>True</td>\n      <td>Die Leistung nach der Nummer 2400 ist je Wurze...</td>\n      <td>False</td>\n      <td>Reasoning: The rule states that the service wi...</td>\n    </tr>\n    <tr>\n      <th>35</th>\n      <td>35</td>\n      <td>2410</td>\n      <td>{'_Positionen': [{'_Faktor': 2.3, '_Behandlung...</td>\n      <td>No</td>\n      <td>True</td>\n      <td>Die Leistung nach der Nummer 2410 ist für dens...</td>\n      <td>False</td>\n      <td>Reasoning: The rule states that the service wi...</td>\n    </tr>\n    <tr>\n      <th>38</th>\n      <td>38</td>\n      <td>L_Zuschläge_zu_bestimmten</td>\n      <td>{'_Positionen': [{'_Behandlungsdatum': '2012-0...</td>\n      <td>No</td>\n      <td>True</td>\n      <td>Die Zuschläge nach den Nummern 0500 bis 0530 s...</td>\n      <td>False</td>\n      <td>Reasoning: The invoice is not correct accordin...</td>\n    </tr>\n    <tr>\n      <th>39</th>\n      <td>39</td>\n      <td>L_Zuschläge_zu_bestimmten</td>\n      <td>{'_Positionen': [{'_Behandlungsdatum': '2012-0...</td>\n      <td>No</td>\n      <td>True</td>\n      <td>Die Zuschläge nach den Nummern 0500 bis 0530 s...</td>\n      <td>False</td>\n      <td>Reasoning: The rule states that the surcharges...</td>\n    </tr>\n  </tbody>\n</table>\n</div>"
     },
     "execution_count": 25,
     "metadata": {},
     "output_type": "execute_result"
    }
   ],
   "source": [
    "result_df = pd.read_csv(\"result_baseline.csv\")\n",
    "wrong_df = result_df[result_df[\"prediction\"] != result_df[\"is_correct\"]]\n",
    "\n",
    "rules = result_df[\"tests_rule\"].unique()\n",
    "wrong_rules = wrong_df[\"tests_rule\"].unique()\n",
    "accuracy = (len(rules) - len(wrong_rules)) / len(rules)\n",
    "print(\"accuracy\", accuracy)\n",
    "wrong_df = result_df[result_df[\"prediction\"] != result_df[\"is_correct\"]]\n",
    "wrong_df"
   ],
   "metadata": {
    "collapsed": false,
    "ExecuteTime": {
     "end_time": "2023-11-04T14:00:36.803241800Z",
     "start_time": "2023-11-04T14:00:36.766340300Z"
    }
   },
   "id": "ac365f016f45cd54"
  },
  {
   "cell_type": "code",
   "execution_count": null,
   "outputs": [],
   "source": [],
   "metadata": {
    "collapsed": false
   },
   "id": "7073619ed8176835"
  },
  {
   "cell_type": "code",
   "execution_count": 202,
   "outputs": [
    {
     "name": "stdout",
     "output_type": "stream",
     "text": [
      "accuracy 0.5882352941176471\n",
      "accuracy 0.5882352941176471\n",
      "accuracy 0.7058823529411765\n",
      "accuracy 0.5882352941176471\n",
      "accuracy 0.47058823529411764\n",
      "mean accuracy 0.5882352941176471 std 0.07440653318043247\n",
      "mean n_correct_invoices 35.6 std 1.9595917942265424\n",
      "mean n_wrong_invoices 9.4 std 1.9595917942265424\n",
      "mean n_correct_rules 10.0 std 1.2649110640673518\n",
      "mean n_wrong_rules 7.0 std 1.2649110640673518\n"
     ]
    }
   ],
   "source": [
    "import numpy as np\n",
    "\n",
    "accuracies = []\n",
    "n_correct_invoices = []\n",
    "n_wrong_invoices = []\n",
    "n_correct_rules = []\n",
    "n_wrong_rules = []\n",
    "\n",
    "\n",
    "for i in range(5):\n",
    "    df = pd.read_csv(f\"result_gpt-4-1106-preview_no_rule_extraction_v{i}.csv\")\n",
    "    wrong_df = df[df[\"prediction\"] != df[\"is_correct\"]]\n",
    "\n",
    "    rules = df[\"tests_rule\"].unique()\n",
    "    wrong_rules = wrong_df[\"tests_rule\"].unique()\n",
    "    accuracy = (len(rules) - len(wrong_rules)) / len(rules)\n",
    "    accuracies.append(accuracy)\n",
    "    print(\"accuracy\", accuracy)\n",
    "    n_correct_invoices.append(len(df[df[\"is_correct\"] == df[\"prediction\"]]))\n",
    "    n_wrong_invoices.append(len(wrong_df))\n",
    "    n_correct_rules.append(len(rules) - len(wrong_rules))\n",
    "    n_wrong_rules.append(len(wrong_rules))\n",
    "    \n",
    "print(\"mean accuracy\", sum(accuracies) / len(accuracies), \"std\", np.std(accuracies))\n",
    "print(\"mean n_correct_invoices\", sum(n_correct_invoices) / len(n_correct_invoices), \"std\", np.std(n_correct_invoices))\n",
    "print(\"mean n_wrong_invoices\", sum(n_wrong_invoices) / len(n_wrong_invoices), \"std\", np.std(n_wrong_invoices))\n",
    "print(\"mean n_correct_rules\", sum(n_correct_rules) / len(n_correct_rules), \"std\", np.std(n_correct_rules))\n",
    "print(\"mean n_wrong_rules\", sum(n_wrong_rules) / len(n_wrong_rules), \"std\", np.std(n_wrong_rules))\n",
    "\n",
    "    "
   ],
   "metadata": {
    "collapsed": false,
    "ExecuteTime": {
     "end_time": "2023-11-09T20:42:44.683265900Z",
     "start_time": "2023-11-09T20:42:44.357166100Z"
    }
   },
   "id": "dddebc939878dd12"
  },
  {
   "cell_type": "code",
   "execution_count": null,
   "outputs": [],
   "source": [],
   "metadata": {
    "collapsed": false
   },
   "id": "aeda4994aaa2170b"
  },
  {
   "cell_type": "code",
   "outputs": [],
   "source": [
    "path = \"../../results/gpt-4_v\"\n",
    "\n",
    "dfs = []\n",
    "sums = []\n",
    "means = []\n",
    "for i in range(5):\n",
    "    section_df = pd.read_csv(f\"{path}{i}/section_df.csv\")\n",
    "    text_df = pd.read_csv(f\"{path}{i}/text_df.csv\")\n",
    "    service_df = pd.read_csv(f\"{path}{i}/service_df.csv\")\n",
    "    dfs.append((section_df, text_df, service_df))\n",
    "    sum_tokens = section_df[\"completion_tokens\"].sum() + text_df[\"completion_tokens\"].sum() + service_df[\"completion_tokens\"].sum()\n",
    "    mean_tokens = np.mean([section_df[\"completion_tokens\"].dropna().mean(), text_df[\"completion_tokens\"].dropna().mean(), service_df[\"completion_tokens\"].dropna().mean()])\n",
    "    sums.append(sum_tokens)\n",
    "    means.append(mean_tokens)\n",
    "    "
   ],
   "metadata": {
    "collapsed": false,
    "ExecuteTime": {
     "end_time": "2023-12-25T16:04:08.858047200Z",
     "start_time": "2023-12-25T16:04:08.769220900Z"
    }
   },
   "id": "668197c7aed70c4d",
   "execution_count": 7
  },
  {
   "cell_type": "code",
   "outputs": [
    {
     "data": {
      "text/plain": "[24979.0, 23624.0, 20460.0, 21177.0, 11268.0]"
     },
     "execution_count": 8,
     "metadata": {},
     "output_type": "execute_result"
    }
   ],
   "source": [
    "sums"
   ],
   "metadata": {
    "collapsed": false,
    "ExecuteTime": {
     "end_time": "2023-12-25T16:04:12.666967600Z",
     "start_time": "2023-12-25T16:04:12.605053800Z"
    }
   },
   "id": "db287903703a6830",
   "execution_count": 8
  },
  {
   "cell_type": "code",
   "outputs": [
    {
     "data": {
      "text/plain": "[870.9242424242424,\n 751.849358974359,\n 670.2393162393163,\n 717.7321428571428,\n 452.2238095238095]"
     },
     "execution_count": 9,
     "metadata": {},
     "output_type": "execute_result"
    }
   ],
   "source": [
    "means"
   ],
   "metadata": {
    "collapsed": false,
    "ExecuteTime": {
     "end_time": "2023-12-25T16:04:21.303636900Z",
     "start_time": "2023-12-25T16:04:21.243339900Z"
    }
   },
   "id": "3e4095ffd3b9c21f",
   "execution_count": 9
  },
  {
   "cell_type": "code",
   "outputs": [
    {
     "data": {
      "text/plain": "20301.6"
     },
     "execution_count": 10,
     "metadata": {},
     "output_type": "execute_result"
    }
   ],
   "source": [
    "np.mean(sums)"
   ],
   "metadata": {
    "collapsed": false,
    "ExecuteTime": {
     "end_time": "2023-12-25T16:04:42.696106700Z",
     "start_time": "2023-12-25T16:04:42.631108600Z"
    }
   },
   "id": "292b18cd366a3934",
   "execution_count": 10
  },
  {
   "cell_type": "code",
   "outputs": [
    {
     "ename": "NameError",
     "evalue": "name 'means' is not defined",
     "output_type": "error",
     "traceback": [
      "\u001B[1;31m---------------------------------------------------------------------------\u001B[0m",
      "\u001B[1;31mNameError\u001B[0m                                 Traceback (most recent call last)",
      "Cell \u001B[1;32mIn[2], line 1\u001B[0m\n\u001B[1;32m----> 1\u001B[0m np\u001B[38;5;241m.\u001B[39mmean(\u001B[43mmeans\u001B[49m)\n",
      "\u001B[1;31mNameError\u001B[0m: name 'means' is not defined"
     ]
    }
   ],
   "source": [
    "np.mean(means)"
   ],
   "metadata": {
    "collapsed": false,
    "ExecuteTime": {
     "end_time": "2023-12-27T09:46:06.068786200Z",
     "start_time": "2023-12-27T09:46:05.598821900Z"
    }
   },
   "id": "85100bf8b0ab1164",
   "execution_count": 2
  },
  {
   "cell_type": "code",
   "outputs": [],
   "source": [],
   "metadata": {
    "collapsed": false,
    "ExecuteTime": {
     "start_time": "2023-12-27T09:46:06.042785600Z"
    }
   },
   "id": "9ec9e9a46bb739d5"
  },
  {
   "cell_type": "code",
   "outputs": [],
   "source": [
    "text_df = pd.read_csv(\"../../results/v2/v2gpt-4_v0/text_df.csv\")\n",
    "section_df = pd.read_csv(\"../../results/v2/v2gpt-4_v0/section_df.csv\")\n",
    "service_df = pd.read_csv(\"../../results/v2/v2gpt-4_v0/service_df.csv\")"
   ],
   "metadata": {
    "collapsed": false,
    "ExecuteTime": {
     "end_time": "2023-12-27T12:36:16.512141Z",
     "start_time": "2023-12-27T12:36:16.444088700Z"
    }
   },
   "id": "7c52c8dcc2499cca",
   "execution_count": 159
  },
  {
   "cell_type": "code",
   "outputs": [
    {
     "data": {
      "text/plain": "    Unnamed: 0                                            section subsection  \\\n0            0                                                NaN        NaN   \n1            1                             § 1 Anwendungsbereich         (1)   \n2            2                             § 1 Anwendungsbereich         (2)   \n3            3                      § 2 Abweichende Vereinbarung         (1)   \n4            4                      § 2 Abweichende Vereinbarung         (1)   \n..         ...                                                ...        ...   \n62          62  § 10 Fälligkeit und Abrechnung der Vergütung; ...        (6)   \n63          63                          § 11 Übergangsvorschrift         NaN   \n64          64                          § 11 Übergangsvorschrift         NaN   \n65          65                          § 11 Übergangsvorschrift         NaN   \n66          66                                  § 12 Überprüfung         NaN   \n\n                                              content  \\\n0   Erste Verordnung zur Änderung der Gebührenordn...   \n1   Die Vergütungen für die beruflichen Leistungen...   \n2   Vergütungen darf der Zahnarzt nur für Leistung...   \n3   Durch Vereinbarung zwischen Zahnarzt und Zahlu...   \n4   Durch Vereinbarung zwischen Zahnarzt und Zahlu...   \n..                                                ...   \n62  Die Übermittlung von Daten an einen Dritten zu...   \n63  Die Gebührenordnung für Zahnärzte in der vor d...   \n64  Die Gebührenordnung für Zahnärzte in der vor d...   \n65  Die Gebührenordnung für Zahnärzte in der vor d...   \n66  Die Bundesregierung prüft die Auswirkungen der...   \n\n                                            reference  extr_ref_calls  \\\n0                                    References: § 15               1   \n1   The text does not mention any references to ot...               1   \n2   The text does not mention any references to ot...               1   \n3                                  References: §5 (1)               1   \n4                                  References: §5 (1)               1   \n..                                                ...             ...   \n62  The text does not mention any references to ot...               1   \n63  The text does not mention any references to ot...               1   \n64  The text does not mention any references to ot...               1   \n65  The text does not mention any references to ot...               1   \n66  The text does not mention any references to ot...               1   \n\n    extr_ref_prompt_tokens  extr_ref_completion_tokens  extr_ref_total_cost  \\\n0                      240                           5              0.00750   \n1                      102                          11              0.00372   \n2                      170                          11              0.00576   \n3                      191                           7              0.00615   \n4                      191                           7              0.00615   \n..                     ...                         ...                  ...   \n62                     145                          11              0.00501   \n63                     400                          11              0.01266   \n64                     400                          11              0.01266   \n65                     400                          11              0.01266   \n66                     130                          11              0.00456   \n\n    section_number  ...  extr_rules_total_cost  \\\n0              NaN  ...                0.02376   \n1              1.0  ...                0.01962   \n2              1.0  ...                0.02166   \n3              2.0  ...                0.03540   \n4              2.0  ...                0.03540   \n..             ...  ...                    ...   \n62            10.0  ...                0.02091   \n63            11.0  ...                0.04314   \n64            11.0  ...                0.04314   \n65            11.0  ...                0.04314   \n66            12.0  ...                0.02046   \n\n                                         llm_response query  \\\n0                                                 NaN     n   \n1                                                 NaN     n   \n2                                                 NaN     n   \n3   ---\\nRule 1:\\nThoughts: This rule states that ...   NaN   \n4                                                 NaN     n   \n..                                                ...   ...   \n62                                                NaN     n   \n63  ---\\nRule 1:\\nThoughts: This rule states that ...   NaN   \n64                                                NaN     n   \n65                                                NaN     n   \n66                                                NaN     n   \n\n                                           llm_inputs  llm_calls  \\\n0                                                 NaN        NaN   \n1                                                 NaN        NaN   \n2                                                 NaN        NaN   \n3   Given this rules from the german GOZ:\\n---\\nRu...        1.0   \n4                                                 NaN        NaN   \n..                                                ...        ...   \n62                                                NaN        NaN   \n63  Given this rules from the german GOZ:\\n---\\nRu...        1.0   \n64                                                NaN        NaN   \n65                                                NaN        NaN   \n66                                                NaN        NaN   \n\n    prompt_tokens  completion_tokens total_cost parsed_code correction_count  \n0             NaN                NaN        NaN         NaN              NaN  \n1             NaN                NaN        NaN         NaN              NaN  \n2             NaN                NaN        NaN         NaN              NaN  \n3          1942.0              876.0    0.11082          \\n              0.0  \n4             NaN                NaN        NaN          \\n              0.0  \n..            ...                ...        ...         ...              ...  \n62            NaN                NaN        NaN         NaN              NaN  \n63         1444.0              555.0    0.07662          \\n              0.0  \n64            NaN                NaN        NaN          \\n              0.0  \n65            NaN                NaN        NaN          \\n              0.0  \n66            NaN                NaN        NaN         NaN              NaN  \n\n[67 rows x 26 columns]",
      "text/html": "<div>\n<style scoped>\n    .dataframe tbody tr th:only-of-type {\n        vertical-align: middle;\n    }\n\n    .dataframe tbody tr th {\n        vertical-align: top;\n    }\n\n    .dataframe thead th {\n        text-align: right;\n    }\n</style>\n<table border=\"1\" class=\"dataframe\">\n  <thead>\n    <tr style=\"text-align: right;\">\n      <th></th>\n      <th>Unnamed: 0</th>\n      <th>section</th>\n      <th>subsection</th>\n      <th>content</th>\n      <th>reference</th>\n      <th>extr_ref_calls</th>\n      <th>extr_ref_prompt_tokens</th>\n      <th>extr_ref_completion_tokens</th>\n      <th>extr_ref_total_cost</th>\n      <th>section_number</th>\n      <th>...</th>\n      <th>extr_rules_total_cost</th>\n      <th>llm_response</th>\n      <th>query</th>\n      <th>llm_inputs</th>\n      <th>llm_calls</th>\n      <th>prompt_tokens</th>\n      <th>completion_tokens</th>\n      <th>total_cost</th>\n      <th>parsed_code</th>\n      <th>correction_count</th>\n    </tr>\n  </thead>\n  <tbody>\n    <tr>\n      <th>0</th>\n      <td>0</td>\n      <td>NaN</td>\n      <td>NaN</td>\n      <td>Erste Verordnung zur Änderung der Gebührenordn...</td>\n      <td>References: § 15</td>\n      <td>1</td>\n      <td>240</td>\n      <td>5</td>\n      <td>0.00750</td>\n      <td>NaN</td>\n      <td>...</td>\n      <td>0.02376</td>\n      <td>NaN</td>\n      <td>n</td>\n      <td>NaN</td>\n      <td>NaN</td>\n      <td>NaN</td>\n      <td>NaN</td>\n      <td>NaN</td>\n      <td>NaN</td>\n      <td>NaN</td>\n    </tr>\n    <tr>\n      <th>1</th>\n      <td>1</td>\n      <td>§ 1 Anwendungsbereich</td>\n      <td>(1)</td>\n      <td>Die Vergütungen für die beruflichen Leistungen...</td>\n      <td>The text does not mention any references to ot...</td>\n      <td>1</td>\n      <td>102</td>\n      <td>11</td>\n      <td>0.00372</td>\n      <td>1.0</td>\n      <td>...</td>\n      <td>0.01962</td>\n      <td>NaN</td>\n      <td>n</td>\n      <td>NaN</td>\n      <td>NaN</td>\n      <td>NaN</td>\n      <td>NaN</td>\n      <td>NaN</td>\n      <td>NaN</td>\n      <td>NaN</td>\n    </tr>\n    <tr>\n      <th>2</th>\n      <td>2</td>\n      <td>§ 1 Anwendungsbereich</td>\n      <td>(2)</td>\n      <td>Vergütungen darf der Zahnarzt nur für Leistung...</td>\n      <td>The text does not mention any references to ot...</td>\n      <td>1</td>\n      <td>170</td>\n      <td>11</td>\n      <td>0.00576</td>\n      <td>1.0</td>\n      <td>...</td>\n      <td>0.02166</td>\n      <td>NaN</td>\n      <td>n</td>\n      <td>NaN</td>\n      <td>NaN</td>\n      <td>NaN</td>\n      <td>NaN</td>\n      <td>NaN</td>\n      <td>NaN</td>\n      <td>NaN</td>\n    </tr>\n    <tr>\n      <th>3</th>\n      <td>3</td>\n      <td>§ 2 Abweichende Vereinbarung</td>\n      <td>(1)</td>\n      <td>Durch Vereinbarung zwischen Zahnarzt und Zahlu...</td>\n      <td>References: §5 (1)</td>\n      <td>1</td>\n      <td>191</td>\n      <td>7</td>\n      <td>0.00615</td>\n      <td>2.0</td>\n      <td>...</td>\n      <td>0.03540</td>\n      <td>---\\nRule 1:\\nThoughts: This rule states that ...</td>\n      <td>NaN</td>\n      <td>Given this rules from the german GOZ:\\n---\\nRu...</td>\n      <td>1.0</td>\n      <td>1942.0</td>\n      <td>876.0</td>\n      <td>0.11082</td>\n      <td>\\n</td>\n      <td>0.0</td>\n    </tr>\n    <tr>\n      <th>4</th>\n      <td>4</td>\n      <td>§ 2 Abweichende Vereinbarung</td>\n      <td>(1)</td>\n      <td>Durch Vereinbarung zwischen Zahnarzt und Zahlu...</td>\n      <td>References: §5 (1)</td>\n      <td>1</td>\n      <td>191</td>\n      <td>7</td>\n      <td>0.00615</td>\n      <td>2.0</td>\n      <td>...</td>\n      <td>0.03540</td>\n      <td>NaN</td>\n      <td>n</td>\n      <td>NaN</td>\n      <td>NaN</td>\n      <td>NaN</td>\n      <td>NaN</td>\n      <td>NaN</td>\n      <td>\\n</td>\n      <td>0.0</td>\n    </tr>\n    <tr>\n      <th>...</th>\n      <td>...</td>\n      <td>...</td>\n      <td>...</td>\n      <td>...</td>\n      <td>...</td>\n      <td>...</td>\n      <td>...</td>\n      <td>...</td>\n      <td>...</td>\n      <td>...</td>\n      <td>...</td>\n      <td>...</td>\n      <td>...</td>\n      <td>...</td>\n      <td>...</td>\n      <td>...</td>\n      <td>...</td>\n      <td>...</td>\n      <td>...</td>\n      <td>...</td>\n      <td>...</td>\n    </tr>\n    <tr>\n      <th>62</th>\n      <td>62</td>\n      <td>§ 10 Fälligkeit und Abrechnung der Vergütung; ...</td>\n      <td>(6)</td>\n      <td>Die Übermittlung von Daten an einen Dritten zu...</td>\n      <td>The text does not mention any references to ot...</td>\n      <td>1</td>\n      <td>145</td>\n      <td>11</td>\n      <td>0.00501</td>\n      <td>10.0</td>\n      <td>...</td>\n      <td>0.02091</td>\n      <td>NaN</td>\n      <td>n</td>\n      <td>NaN</td>\n      <td>NaN</td>\n      <td>NaN</td>\n      <td>NaN</td>\n      <td>NaN</td>\n      <td>NaN</td>\n      <td>NaN</td>\n    </tr>\n    <tr>\n      <th>63</th>\n      <td>63</td>\n      <td>§ 11 Übergangsvorschrift</td>\n      <td>NaN</td>\n      <td>Die Gebührenordnung für Zahnärzte in der vor d...</td>\n      <td>The text does not mention any references to ot...</td>\n      <td>1</td>\n      <td>400</td>\n      <td>11</td>\n      <td>0.01266</td>\n      <td>11.0</td>\n      <td>...</td>\n      <td>0.04314</td>\n      <td>---\\nRule 1:\\nThoughts: This rule states that ...</td>\n      <td>NaN</td>\n      <td>Given this rules from the german GOZ:\\n---\\nRu...</td>\n      <td>1.0</td>\n      <td>1444.0</td>\n      <td>555.0</td>\n      <td>0.07662</td>\n      <td>\\n</td>\n      <td>0.0</td>\n    </tr>\n    <tr>\n      <th>64</th>\n      <td>64</td>\n      <td>§ 11 Übergangsvorschrift</td>\n      <td>NaN</td>\n      <td>Die Gebührenordnung für Zahnärzte in der vor d...</td>\n      <td>The text does not mention any references to ot...</td>\n      <td>1</td>\n      <td>400</td>\n      <td>11</td>\n      <td>0.01266</td>\n      <td>11.0</td>\n      <td>...</td>\n      <td>0.04314</td>\n      <td>NaN</td>\n      <td>n</td>\n      <td>NaN</td>\n      <td>NaN</td>\n      <td>NaN</td>\n      <td>NaN</td>\n      <td>NaN</td>\n      <td>\\n</td>\n      <td>0.0</td>\n    </tr>\n    <tr>\n      <th>65</th>\n      <td>65</td>\n      <td>§ 11 Übergangsvorschrift</td>\n      <td>NaN</td>\n      <td>Die Gebührenordnung für Zahnärzte in der vor d...</td>\n      <td>The text does not mention any references to ot...</td>\n      <td>1</td>\n      <td>400</td>\n      <td>11</td>\n      <td>0.01266</td>\n      <td>11.0</td>\n      <td>...</td>\n      <td>0.04314</td>\n      <td>NaN</td>\n      <td>n</td>\n      <td>NaN</td>\n      <td>NaN</td>\n      <td>NaN</td>\n      <td>NaN</td>\n      <td>NaN</td>\n      <td>\\n</td>\n      <td>0.0</td>\n    </tr>\n    <tr>\n      <th>66</th>\n      <td>66</td>\n      <td>§ 12 Überprüfung</td>\n      <td>NaN</td>\n      <td>Die Bundesregierung prüft die Auswirkungen der...</td>\n      <td>The text does not mention any references to ot...</td>\n      <td>1</td>\n      <td>130</td>\n      <td>11</td>\n      <td>0.00456</td>\n      <td>12.0</td>\n      <td>...</td>\n      <td>0.02046</td>\n      <td>NaN</td>\n      <td>n</td>\n      <td>NaN</td>\n      <td>NaN</td>\n      <td>NaN</td>\n      <td>NaN</td>\n      <td>NaN</td>\n      <td>NaN</td>\n      <td>NaN</td>\n    </tr>\n  </tbody>\n</table>\n<p>67 rows × 26 columns</p>\n</div>"
     },
     "execution_count": 160,
     "metadata": {},
     "output_type": "execute_result"
    }
   ],
   "source": [
    "text_df"
   ],
   "metadata": {
    "collapsed": false,
    "ExecuteTime": {
     "end_time": "2023-12-27T12:36:17.067389100Z",
     "start_time": "2023-12-27T12:36:17.042883600Z"
    }
   },
   "id": "3ce46895d7e2cde6",
   "execution_count": 160
  },
  {
   "cell_type": "code",
   "outputs": [],
   "source": [],
   "metadata": {
    "collapsed": false,
    "ExecuteTime": {
     "end_time": "2023-12-27T12:36:18.316529100Z",
     "start_time": "2023-12-27T12:36:18.299527600Z"
    }
   },
   "id": "50852fab6105b4e9",
   "execution_count": 160
  },
  {
   "cell_type": "code",
   "outputs": [
    {
     "name": "stdout",
     "output_type": "stream",
     "text": [
      "rule : 144\n",
      "correction_count : 0.0 0.0\n",
      "total_cost : 1.9455899999999997 0.013511041666666664\n",
      "prompt_tokens : 29521.0 205.00694444444446\n",
      "completion_tokens : 17666.0 122.68055555555556\n",
      "llm_calls : 20.0 0.1388888888888889\n"
     ]
    }
   ],
   "source": [
    "col = \"rule\"\n",
    "num_rules = len(text_df[col].dropna()) + len(section_df[col].dropna()) + len(service_df[col].dropna())\n",
    "print(col, \":\", num_rules)\n",
    "\n",
    "col = \"correction_count\"\n",
    "sum = text_df[col].sum() + section_df[col].sum() + service_df[col].sum()\n",
    "print(col, \":\", sum, sum/ num_rules)\n",
    "\n",
    "col = \"total_cost\"\n",
    "sum = text_df[col].sum() + section_df[col].sum() + service_df[col].sum()\n",
    "print(col, \":\", sum, sum/ num_rules)\n",
    "col = \"prompt_tokens\"\n",
    "sum = text_df[col].sum() + section_df[col].sum() + service_df[col].sum()\n",
    "print(col, \":\", sum, sum/ num_rules)\n",
    "col = \"completion_tokens\"\n",
    "sum = text_df[col].sum() + section_df[col].sum() + service_df[col].sum()\n",
    "print(col, \":\", sum, sum/ num_rules)\n",
    "col = \"llm_calls\"\n",
    "sum = text_df[col].sum() + section_df[col].sum() + service_df[col].sum()\n",
    "print(col, \":\", sum, sum/ num_rules)"
   ],
   "metadata": {
    "collapsed": false,
    "ExecuteTime": {
     "end_time": "2023-12-27T12:36:19.046584300Z",
     "start_time": "2023-12-27T12:36:19.013480400Z"
    }
   },
   "id": "2e55c49c3a87cfd2",
   "execution_count": 161
  },
  {
   "cell_type": "code",
   "outputs": [
    {
     "name": "stdout",
     "output_type": "stream",
     "text": [
      "extr_rules_total_cost : 0.0 0.0\n",
      "extr_rules_prompt_tokens : 312521 2155.3172413793104\n",
      "extr_rules_completion_tokens : 38838 267.848275862069\n",
      "extr_rules_calls : 390 2.689655172413793\n"
     ]
    }
   ],
   "source": [
    "col = \"extr_rules_total_cost\"\n",
    "sum = text_df[col].sum() + section_df[col].sum() + service_df[col].sum()\n",
    "print(col, \":\", sum, sum/ num_rules)\n",
    "col = \"extr_rules_prompt_tokens\"\n",
    "sum = text_df[col].sum() + section_df[col].sum() + service_df[col].sum()\n",
    "print(col, \":\", sum, sum/ num_rules)\n",
    "col = \"extr_rules_completion_tokens\"\n",
    "sum = text_df[col].sum() + section_df[col].sum() + service_df[col].sum()\n",
    "print(col, \":\", sum, sum/ num_rules)\n",
    "col = \"extr_rules_calls\"\n",
    "sum = text_df[col].sum() + section_df[col].sum() + service_df[col].sum()\n",
    "print(col, \":\", sum, sum/ num_rules)"
   ],
   "metadata": {
    "collapsed": false,
    "ExecuteTime": {
     "end_time": "2023-12-27T12:32:37.807214300Z",
     "start_time": "2023-12-27T12:32:37.802216Z"
    }
   },
   "id": "1e6d6ee90c789ca2",
   "execution_count": 153
  },
  {
   "cell_type": "code",
   "outputs": [
    {
     "name": "stdout",
     "output_type": "stream",
     "text": [
      "extr_ref_total_cost : 2.476799999999987 0.017081379310344737\n",
      "extr_ref_prompt_tokens : 70042 483.048275862069\n",
      "extr_ref_completion_tokens : 6259 43.16551724137931\n",
      "extr_ref_calls : 390 2.689655172413793\n"
     ]
    }
   ],
   "source": [
    "col = \"extr_ref_total_cost\"\n",
    "sum = text_df[col].sum() + section_df[col].sum() + service_df[col].sum()\n",
    "print(col, \":\", sum, sum/ num_rules)\n",
    "col = \"extr_ref_prompt_tokens\"\n",
    "sum = text_df[col].sum() + section_df[col].sum() + service_df[col].sum()\n",
    "print(col, \":\", sum, sum/ num_rules)\n",
    "col = \"extr_ref_completion_tokens\"\n",
    "sum = text_df[col].sum() + section_df[col].sum() + service_df[col].sum()\n",
    "print(col, \":\", sum, sum/ num_rules)\n",
    "col = \"extr_ref_calls\"\n",
    "sum = text_df[col].sum() + section_df[col].sum() + service_df[col].sum()\n",
    "print(col, \":\", sum, sum/ num_rules)"
   ],
   "metadata": {
    "collapsed": false,
    "ExecuteTime": {
     "end_time": "2023-12-27T12:30:58.313689600Z",
     "start_time": "2023-12-27T12:30:58.286688100Z"
    }
   },
   "id": "cd2b97f0d3d617fa",
   "execution_count": 152
  },
  {
   "cell_type": "code",
   "outputs": [
    {
     "data": {
      "text/plain": "144"
     },
     "execution_count": 7,
     "metadata": {},
     "output_type": "execute_result"
    }
   ],
   "source": [],
   "metadata": {
    "collapsed": false,
    "ExecuteTime": {
     "end_time": "2023-12-27T09:49:57.813929900Z",
     "start_time": "2023-12-27T09:49:57.741762500Z"
    }
   },
   "id": "944b35bedbd597d3",
   "execution_count": 7
  },
  {
   "cell_type": "code",
   "outputs": [
    {
     "data": {
      "text/plain": "0.2704761904761904"
     },
     "execution_count": 162,
     "metadata": {},
     "output_type": "execute_result"
    }
   ],
   "source": [
    "np.mean([2/6, 2/7, 1/5, 2/6, 1/5])"
   ],
   "metadata": {
    "collapsed": false,
    "ExecuteTime": {
     "end_time": "2023-12-27T12:48:54.593328700Z",
     "start_time": "2023-12-27T12:48:54.513615800Z"
    }
   },
   "id": "9d898fa360d05d90",
   "execution_count": 162
  },
  {
   "cell_type": "code",
   "outputs": [
    {
     "data": {
      "text/plain": "0.7295238095238096"
     },
     "execution_count": 163,
     "metadata": {},
     "output_type": "execute_result"
    }
   ],
   "source": [
    "np.mean([4/6, 5/7, 4/5, 4/6, 4/5])"
   ],
   "metadata": {
    "collapsed": false,
    "ExecuteTime": {
     "end_time": "2023-12-27T12:49:46.137508Z",
     "start_time": "2023-12-27T12:49:46.062507700Z"
    }
   },
   "id": "9b68539642ced6b1",
   "execution_count": 163
  },
  {
   "cell_type": "code",
   "outputs": [
    {
     "data": {
      "text/plain": "0.35"
     },
     "execution_count": 164,
     "metadata": {},
     "output_type": "execute_result"
    }
   ],
   "source": [
    "np.mean([5/10, 4/10, 3/10, 3/10, 2/8])"
   ],
   "metadata": {
    "collapsed": false,
    "ExecuteTime": {
     "end_time": "2023-12-27T12:50:32.008402Z",
     "start_time": "2023-12-27T12:50:31.921890900Z"
    }
   },
   "id": "40ea2969f5377849",
   "execution_count": 164
  },
  {
   "cell_type": "code",
   "outputs": [],
   "source": [],
   "metadata": {
    "collapsed": false
   },
   "id": "5b9e66d70d96083f"
  },
  {
   "cell_type": "code",
   "outputs": [
    {
     "data": {
      "text/plain": "0.02881752638568445"
     },
     "execution_count": 28,
     "metadata": {},
     "output_type": "execute_result"
    }
   ],
   "source": [
    "np.std([2/17, 1/17, 1/17, 2/17, 2/17])"
   ],
   "metadata": {
    "collapsed": false,
    "ExecuteTime": {
     "end_time": "2023-12-27T10:35:42.313017500Z",
     "start_time": "2023-12-27T10:35:42.148144Z"
    }
   },
   "id": "feaf7d286e0224a7",
   "execution_count": 28
  },
  {
   "cell_type": "code",
   "outputs": [],
   "source": [],
   "metadata": {
    "collapsed": false
   },
   "id": "df474da65d5d7ef2"
  },
  {
   "cell_type": "code",
   "outputs": [],
   "source": [],
   "metadata": {
    "collapsed": false
   },
   "id": "b0b543064b45932a"
  },
  {
   "cell_type": "code",
   "outputs": [],
   "source": [
    "\n",
    "from datetime import datetime\n",
    "from typing import Dict, Any\n",
    "\n",
    "import pandas as pd\n",
    "\n",
    "\n",
    "def json_to_prolog(invoice_data: Dict[str, Any], service_df: pd.DataFrame) -> str:\n",
    "    # Extract and format the invoice date.\n",
    "    invoice_date = datetime.strptime(invoice_data[\"_Rechnungsdatum\"], '%Y-%m-%d')\n",
    "    prolog_invoice_date = f\"date({invoice_date.year}, {invoice_date.month}, {invoice_date.day})\"\n",
    "\n",
    "    # Extract the invoice amount.\n",
    "    invoice_amount = invoice_data[\"_Rechnungsbetrag\"]\n",
    "\n",
    "    # Lists to hold the Prolog representation of services and material costs.\n",
    "    services_prolog_list = []\n",
    "    material_costs_prolog_list = []\n",
    "\n",
    "    # Process each item in the invoice.\n",
    "    for item in invoice_data[\"_Positionen\"]:\n",
    "        try:\n",
    "            item_date = datetime.strptime(item[\"_Behandlungsdatum\"], '%Y-%m-%d')\n",
    "            prolog_item_date = f\"date({item_date.year}, {item_date.month}, {item_date.day})\"\n",
    "        except:\n",
    "            prolog_item_date = \"date('', '', '')\"\n",
    "\n",
    "        item_multiplier = item[\"_Faktor\"]\n",
    "        item_count = item[\"_Anzahl\"]\n",
    "        item_charge = item[\"_Betrag\"]\n",
    "        item_description = item[\"_Leistungsbeschreibung\"]\n",
    "        item_number = item[\"_Nr\"]\n",
    "        item_justification = item.get(\"_Begründung\", \"\")\n",
    "\n",
    "        # Convert tooth areas to Prolog list format.\n",
    "        tooth_areas = \", \".join([f\"tooth({str(area)[0]}, {str(area)[1]})\" for area in item.get(\"_Zahn\", [])])\n",
    "        prolog_tooth_list = f\"[{tooth_areas}]\"\n",
    "\n",
    "        # Depending on the type, create a service or a material cost entry.\n",
    "        if item[\"_Typ\"] == \"Service\":\n",
    "            point_score = service_df[service_df[\"number\"] == int(item_number)][\"Punktzahl\"].values[0]\n",
    "            # if item count > 0 write the service count times. When the number of teeth == count,\n",
    "            # then write the service for each tooth.\n",
    "            if 1 < item_count == len(item.get(\"_Zahn\", [])):\n",
    "                prolog_teeth = [f\"[tooth({str(area)[0]}, {str(area)[1]})]\" for area in item.get(\"_Zahn\", [])]\n",
    "            else:\n",
    "                prolog_teeth = [prolog_tooth_list]\n",
    "\n",
    "            for i, teeth in zip(range(item_count), prolog_teeth):\n",
    "                charge = item_charge / len(prolog_teeth)\n",
    "                service_prolog = f\"service({item_number}, {prolog_item_date}, {item_multiplier}, {point_score}, {charge}, \\'{item_description}\\', \\'{item_justification}\\', {teeth})\"\n",
    "                services_prolog_list.append(service_prolog)\n",
    "\n",
    "        elif item[\"_Typ\"] == \"Materialkosten\":\n",
    "            material_cost_prolog = f\"material_cost(\\'{item_number}\\', {prolog_item_date}, {item_multiplier}, {item_count}, {item_charge}, \\'{item_description}\\', \\'{item_justification}\\', {prolog_tooth_list})\"\n",
    "            material_costs_prolog_list.append(material_cost_prolog)\n",
    "\n",
    "    # Convert the lists to strings.\n",
    "    list_of_services = \",\\n\\t\\t\".join(services_prolog_list)\n",
    "\n",
    "    list_of_material_costs = \",\\n\\t\\t\".join(material_costs_prolog_list)\n",
    "    list_of_material_costs = f\",\\n\\t[\\n\\t\\t{list_of_material_costs}\\n\\t]\"\n",
    "\n",
    "\n",
    "    # Combine everything into the final Prolog representation.\n",
    "    prolog_representation = f\"invoice([\\n\\t\\t{list_of_services}\\n\\t]{list_of_material_costs},\\n\\tinvoice_date({prolog_invoice_date}),\\n\\tinvoice_amount({invoice_amount})\\n).\"\n",
    "\n",
    "    return prolog_representation"
   ],
   "metadata": {
    "collapsed": false,
    "ExecuteTime": {
     "end_time": "2024-01-12T10:12:32.149431Z",
     "start_time": "2024-01-12T10:12:30.317548200Z"
    }
   },
   "id": "1d1b1a74fc6999a1",
   "execution_count": 1
  },
  {
   "cell_type": "code",
   "outputs": [],
   "source": [
    "invoice_dirk_dental = {\n",
    "        \"_Positionen\": [\n",
    "            {\n",
    "                \"_Behandlungsdatum\": \"2016-09-02\",\n",
    "                \"_Faktor\": 1.0,\n",
    "                \"_Anzahl\": 1,\n",
    "                \"_Betrag\": 11.25,\n",
    "                \"_Leistungsbeschreibung\": \"Erstellung eines Mundhygienestatus und eigenhende Unterweisung zur Vorbeugung gegen Karies und parodontale Erkrankungen, Dauer mindestens 25 Minuten\",\n",
    "                \"_Nr\": \"1000\",\n",
    "                \"_Typ\": \"Service\"\n",
    "            },\n",
    "            {\n",
    "                \"_Behandlungsdatum\": \"2016-09-02\",\n",
    "                \"_Faktor\": 2.0,\n",
    "                \"_Anzahl\": 28,\n",
    "                \"_Betrag\": 88.20,\n",
    "                \"_Leistungsbeschreibung\": \"Professionelle Zahnreinigung (Zahn: 17,16,15,14,13,12,11,21,22,23,24,25,26,27,37,36,35,34,33,32,31,41,42,43,44,45,46,47)\",\n",
    "                \"_Zahn\": [17,16,15,14,13,12,11,21,22,23,24,25,26,27,37,36,35,34,33,32,31,41,42,43,44,45,46,47],\n",
    "                \"_Nr\": \"1040\",\n",
    "                \"_Typ\": \"Service\"\n",
    "            },\n",
    "            {\n",
    "                \"_Behandlungsdatum\": \"2016-09-06\",\n",
    "                \"_Faktor\": 3.5,\n",
    "                \"_Anzahl\": 1,\n",
    "                \"_Betrag\": 151.57,\n",
    "                \"_Leistungsbeschreibung\": \"Präparieren einer Kavität und Restauration mit Kompositmaterialien, in Adhäsivtechnik (Konditionieren), mehr als dreiflächig, ggf. einschließlich Polieren, ggf. einschließlich Verwendung von Inserts\",\n",
    "                \"_Begründung\": \"Überdurchscnittlicher Schwierigkeitsgrad und Zeitaufwand wegen erschwertem Anlegen von Matrizen/Bändern durch Zahnengstand und tiefer, sehr schwer einsehbarer Approximalkavität\",\n",
    "                \"_Nr\": \"2120\",\n",
    "                \"_Typ\": \"Service\"\n",
    "            }\n",
    "        ],\n",
    "        \"_Kassenanteil\": {\n",
    "            \"_KassenanteilSumme\": -54.47\n",
    "        },\n",
    "        \"_Rechnungsnummer\": \"92545-16\",\n",
    "        \"_Rechnungsdatum\": \"2016-11-11\",\n",
    "        \"_Rechnungsbetrag\": 251.02,\n",
    "        \"_Waehrung\": \"EUR\"\n",
    "    }"
   ],
   "metadata": {
    "collapsed": false,
    "ExecuteTime": {
     "end_time": "2024-01-12T10:12:32.221816100Z",
     "start_time": "2024-01-12T10:12:32.150454800Z"
    }
   },
   "id": "a770b2571b3948aa",
   "execution_count": 2
  },
  {
   "cell_type": "code",
   "outputs": [],
   "source": [
    "service_df = pd.read_csv(\"../../parsed_text/de/service_df.csv\")"
   ],
   "metadata": {
    "collapsed": false,
    "ExecuteTime": {
     "end_time": "2024-01-12T10:12:32.242846900Z",
     "start_time": "2024-01-12T10:12:32.181150500Z"
    }
   },
   "id": "7fb6895e5acca424",
   "execution_count": 3
  },
  {
   "cell_type": "code",
   "outputs": [
    {
     "name": "stdout",
     "output_type": "stream",
     "text": [
      "invoice([\n",
      "\t\tservice(1000, date(2016, 9, 2), 1.0, 200.0, 11.25, 'Erstellung eines Mundhygienestatus und eigenhende Unterweisung zur Vorbeugung gegen Karies und parodontale Erkrankungen, Dauer mindestens 25 Minuten', '', []),\n",
      "\t\tservice(1040, date(2016, 9, 2), 2.0, 28.0, 3.15, 'Professionelle Zahnreinigung (Zahn: 17,16,15,14,13,12,11,21,22,23,24,25,26,27,37,36,35,34,33,32,31,41,42,43,44,45,46,47)', '', [tooth(1, 7)]),\n",
      "\t\tservice(1040, date(2016, 9, 2), 2.0, 28.0, 3.15, 'Professionelle Zahnreinigung (Zahn: 17,16,15,14,13,12,11,21,22,23,24,25,26,27,37,36,35,34,33,32,31,41,42,43,44,45,46,47)', '', [tooth(1, 6)]),\n",
      "\t\tservice(1040, date(2016, 9, 2), 2.0, 28.0, 3.15, 'Professionelle Zahnreinigung (Zahn: 17,16,15,14,13,12,11,21,22,23,24,25,26,27,37,36,35,34,33,32,31,41,42,43,44,45,46,47)', '', [tooth(1, 5)]),\n",
      "\t\tservice(1040, date(2016, 9, 2), 2.0, 28.0, 3.15, 'Professionelle Zahnreinigung (Zahn: 17,16,15,14,13,12,11,21,22,23,24,25,26,27,37,36,35,34,33,32,31,41,42,43,44,45,46,47)', '', [tooth(1, 4)]),\n",
      "\t\tservice(1040, date(2016, 9, 2), 2.0, 28.0, 3.15, 'Professionelle Zahnreinigung (Zahn: 17,16,15,14,13,12,11,21,22,23,24,25,26,27,37,36,35,34,33,32,31,41,42,43,44,45,46,47)', '', [tooth(1, 3)]),\n",
      "\t\tservice(1040, date(2016, 9, 2), 2.0, 28.0, 3.15, 'Professionelle Zahnreinigung (Zahn: 17,16,15,14,13,12,11,21,22,23,24,25,26,27,37,36,35,34,33,32,31,41,42,43,44,45,46,47)', '', [tooth(1, 2)]),\n",
      "\t\tservice(1040, date(2016, 9, 2), 2.0, 28.0, 3.15, 'Professionelle Zahnreinigung (Zahn: 17,16,15,14,13,12,11,21,22,23,24,25,26,27,37,36,35,34,33,32,31,41,42,43,44,45,46,47)', '', [tooth(1, 1)]),\n",
      "\t\tservice(1040, date(2016, 9, 2), 2.0, 28.0, 3.15, 'Professionelle Zahnreinigung (Zahn: 17,16,15,14,13,12,11,21,22,23,24,25,26,27,37,36,35,34,33,32,31,41,42,43,44,45,46,47)', '', [tooth(2, 1)]),\n",
      "\t\tservice(1040, date(2016, 9, 2), 2.0, 28.0, 3.15, 'Professionelle Zahnreinigung (Zahn: 17,16,15,14,13,12,11,21,22,23,24,25,26,27,37,36,35,34,33,32,31,41,42,43,44,45,46,47)', '', [tooth(2, 2)]),\n",
      "\t\tservice(1040, date(2016, 9, 2), 2.0, 28.0, 3.15, 'Professionelle Zahnreinigung (Zahn: 17,16,15,14,13,12,11,21,22,23,24,25,26,27,37,36,35,34,33,32,31,41,42,43,44,45,46,47)', '', [tooth(2, 3)]),\n",
      "\t\tservice(1040, date(2016, 9, 2), 2.0, 28.0, 3.15, 'Professionelle Zahnreinigung (Zahn: 17,16,15,14,13,12,11,21,22,23,24,25,26,27,37,36,35,34,33,32,31,41,42,43,44,45,46,47)', '', [tooth(2, 4)]),\n",
      "\t\tservice(1040, date(2016, 9, 2), 2.0, 28.0, 3.15, 'Professionelle Zahnreinigung (Zahn: 17,16,15,14,13,12,11,21,22,23,24,25,26,27,37,36,35,34,33,32,31,41,42,43,44,45,46,47)', '', [tooth(2, 5)]),\n",
      "\t\tservice(1040, date(2016, 9, 2), 2.0, 28.0, 3.15, 'Professionelle Zahnreinigung (Zahn: 17,16,15,14,13,12,11,21,22,23,24,25,26,27,37,36,35,34,33,32,31,41,42,43,44,45,46,47)', '', [tooth(2, 6)]),\n",
      "\t\tservice(1040, date(2016, 9, 2), 2.0, 28.0, 3.15, 'Professionelle Zahnreinigung (Zahn: 17,16,15,14,13,12,11,21,22,23,24,25,26,27,37,36,35,34,33,32,31,41,42,43,44,45,46,47)', '', [tooth(2, 7)]),\n",
      "\t\tservice(1040, date(2016, 9, 2), 2.0, 28.0, 3.15, 'Professionelle Zahnreinigung (Zahn: 17,16,15,14,13,12,11,21,22,23,24,25,26,27,37,36,35,34,33,32,31,41,42,43,44,45,46,47)', '', [tooth(3, 7)]),\n",
      "\t\tservice(1040, date(2016, 9, 2), 2.0, 28.0, 3.15, 'Professionelle Zahnreinigung (Zahn: 17,16,15,14,13,12,11,21,22,23,24,25,26,27,37,36,35,34,33,32,31,41,42,43,44,45,46,47)', '', [tooth(3, 6)]),\n",
      "\t\tservice(1040, date(2016, 9, 2), 2.0, 28.0, 3.15, 'Professionelle Zahnreinigung (Zahn: 17,16,15,14,13,12,11,21,22,23,24,25,26,27,37,36,35,34,33,32,31,41,42,43,44,45,46,47)', '', [tooth(3, 5)]),\n",
      "\t\tservice(1040, date(2016, 9, 2), 2.0, 28.0, 3.15, 'Professionelle Zahnreinigung (Zahn: 17,16,15,14,13,12,11,21,22,23,24,25,26,27,37,36,35,34,33,32,31,41,42,43,44,45,46,47)', '', [tooth(3, 4)]),\n",
      "\t\tservice(1040, date(2016, 9, 2), 2.0, 28.0, 3.15, 'Professionelle Zahnreinigung (Zahn: 17,16,15,14,13,12,11,21,22,23,24,25,26,27,37,36,35,34,33,32,31,41,42,43,44,45,46,47)', '', [tooth(3, 3)]),\n",
      "\t\tservice(1040, date(2016, 9, 2), 2.0, 28.0, 3.15, 'Professionelle Zahnreinigung (Zahn: 17,16,15,14,13,12,11,21,22,23,24,25,26,27,37,36,35,34,33,32,31,41,42,43,44,45,46,47)', '', [tooth(3, 2)]),\n",
      "\t\tservice(1040, date(2016, 9, 2), 2.0, 28.0, 3.15, 'Professionelle Zahnreinigung (Zahn: 17,16,15,14,13,12,11,21,22,23,24,25,26,27,37,36,35,34,33,32,31,41,42,43,44,45,46,47)', '', [tooth(3, 1)]),\n",
      "\t\tservice(1040, date(2016, 9, 2), 2.0, 28.0, 3.15, 'Professionelle Zahnreinigung (Zahn: 17,16,15,14,13,12,11,21,22,23,24,25,26,27,37,36,35,34,33,32,31,41,42,43,44,45,46,47)', '', [tooth(4, 1)]),\n",
      "\t\tservice(1040, date(2016, 9, 2), 2.0, 28.0, 3.15, 'Professionelle Zahnreinigung (Zahn: 17,16,15,14,13,12,11,21,22,23,24,25,26,27,37,36,35,34,33,32,31,41,42,43,44,45,46,47)', '', [tooth(4, 2)]),\n",
      "\t\tservice(1040, date(2016, 9, 2), 2.0, 28.0, 3.15, 'Professionelle Zahnreinigung (Zahn: 17,16,15,14,13,12,11,21,22,23,24,25,26,27,37,36,35,34,33,32,31,41,42,43,44,45,46,47)', '', [tooth(4, 3)]),\n",
      "\t\tservice(1040, date(2016, 9, 2), 2.0, 28.0, 3.15, 'Professionelle Zahnreinigung (Zahn: 17,16,15,14,13,12,11,21,22,23,24,25,26,27,37,36,35,34,33,32,31,41,42,43,44,45,46,47)', '', [tooth(4, 4)]),\n",
      "\t\tservice(1040, date(2016, 9, 2), 2.0, 28.0, 3.15, 'Professionelle Zahnreinigung (Zahn: 17,16,15,14,13,12,11,21,22,23,24,25,26,27,37,36,35,34,33,32,31,41,42,43,44,45,46,47)', '', [tooth(4, 5)]),\n",
      "\t\tservice(1040, date(2016, 9, 2), 2.0, 28.0, 3.15, 'Professionelle Zahnreinigung (Zahn: 17,16,15,14,13,12,11,21,22,23,24,25,26,27,37,36,35,34,33,32,31,41,42,43,44,45,46,47)', '', [tooth(4, 6)]),\n",
      "\t\tservice(1040, date(2016, 9, 2), 2.0, 28.0, 3.15, 'Professionelle Zahnreinigung (Zahn: 17,16,15,14,13,12,11,21,22,23,24,25,26,27,37,36,35,34,33,32,31,41,42,43,44,45,46,47)', '', [tooth(4, 7)]),\n",
      "\t\tservice(2120, date(2016, 9, 6), 3.5, 770.0, 151.57, 'Präparieren einer Kavität und Restauration mit Kompositmaterialien, in Adhäsivtechnik (Konditionieren), mehr als dreiflächig, ggf. einschließlich Polieren, ggf. einschließlich Verwendung von Inserts', 'Überdurchscnittlicher Schwierigkeitsgrad und Zeitaufwand wegen erschwertem Anlegen von Matrizen/Bändern durch Zahnengstand und tiefer, sehr schwer einsehbarer Approximalkavität', [])\n",
      "\t],\n",
      "\t[\n",
      "\t\t\n",
      "\t],\n",
      "\tinvoice_date(date(2016, 11, 11)),\n",
      "\tinvoice_amount(251.02)\n",
      ").\n"
     ]
    }
   ],
   "source": [
    "print(json_to_prolog(invoice_dirk_dental, service_df))"
   ],
   "metadata": {
    "collapsed": false,
    "ExecuteTime": {
     "end_time": "2024-01-12T10:12:41.695470200Z",
     "start_time": "2024-01-12T10:12:41.655787300Z"
    }
   },
   "id": "9a47211716fade78",
   "execution_count": 4
  },
  {
   "cell_type": "code",
   "outputs": [],
   "source": [],
   "metadata": {
    "collapsed": false
   },
   "id": "bfc79547de805395"
  }
 ],
 "metadata": {
  "kernelspec": {
   "display_name": "Python 3",
   "language": "python",
   "name": "python3"
  },
  "language_info": {
   "codemirror_mode": {
    "name": "ipython",
    "version": 2
   },
   "file_extension": ".py",
   "mimetype": "text/x-python",
   "name": "python",
   "nbconvert_exporter": "python",
   "pygments_lexer": "ipython2",
   "version": "2.7.6"
  }
 },
 "nbformat": 4,
 "nbformat_minor": 5
}
